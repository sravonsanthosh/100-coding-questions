{
 "cells": [
  {
   "cell_type": "markdown",
   "id": "56dee51a-9f80-4504-bf6e-03ed31c68d58",
   "metadata": {},
   "source": [
    "1. Implement a program to insert an element at a specific position in a list.\n",
    "---"
   ]
  },
  {
   "cell_type": "code",
   "execution_count": 5,
   "id": "1ec2a18b-7cc7-41c3-bd84-b67b30597666",
   "metadata": {},
   "outputs": [
    {
     "name": "stdin",
     "output_type": "stream",
     "text": [
      "Enter the element to be inserted 5\n",
      "Enter the position (0-n) 2\n"
     ]
    },
    {
     "name": "stdout",
     "output_type": "stream",
     "text": [
      "[10, 20, 5, 30]\n"
     ]
    }
   ],
   "source": [
    "l=[10,20,30]\n",
    "#input element and position\n",
    "element=int(input('Enter the element to be inserted'))\n",
    "pos=int(input('Enter the position (0-n)'))\n",
    "#Inserting the element to the list\n",
    "l.insert(pos,element)\n",
    "#Displaying the updated list\n",
    "print(l)"
   ]
  },
  {
   "cell_type": "markdown",
   "id": "bd301a2e-2690-4311-92e1-e0b4e12f2d13",
   "metadata": {},
   "source": [
    "2. Find the maximum and minimum elements in a list without using max() or min().\n",
    "---"
   ]
  },
  {
   "cell_type": "code",
   "execution_count": 10,
   "id": "b511c0df-1e8f-4eb8-9352-14c330b5423d",
   "metadata": {},
   "outputs": [
    {
     "name": "stdout",
     "output_type": "stream",
     "text": [
      "MAX value: 40\n",
      "MIN value: 10\n"
     ]
    }
   ],
   "source": [
    "numbers=[10,20,30,40]\n",
    "maximum=numbers[0]\n",
    "minimum=numbers[0]\n",
    "for i in numbers:\n",
    "    if i>maximum:\n",
    "        maximum=i\n",
    "    if i<minimum:\n",
    "        minimum=i\n",
    "print('MAX value:',maximum)\n",
    "print('MIN value:',minimum)"
   ]
  },
  {
   "cell_type": "markdown",
   "id": "31bbfcd6-77cc-4ea5-9ddb-94bb5e9651b9",
   "metadata": {},
   "source": [
    "3. Remove all negative numbers from a list.\n",
    "---"
   ]
  },
  {
   "cell_type": "code",
   "execution_count": 16,
   "id": "d418d00c-cb1b-4a1f-a013-651b23c7f7cb",
   "metadata": {},
   "outputs": [
    {
     "name": "stdout",
     "output_type": "stream",
     "text": [
      " Original List [-5, -4, -3, -2, -1, 0, 1, 2, 3, 4, 5] \n",
      " List with non-negative integers [0, 1, 2, 3, 4, 5]\n"
     ]
    }
   ],
   "source": [
    "integers=[-5,-4,-3,-2,-1,0,1,2,3,4,5]\n",
    "#Sorting out non-negative no using list comprehension\n",
    "pos_no=[i for i in integers if i>=0]\n",
    "print(' Original List',integers,'\\n','List with non-negative integers',pos_no)"
   ]
  },
  {
   "cell_type": "markdown",
   "id": "601cc222-d407-4853-93fc-141682d2054c",
   "metadata": {},
   "source": [
    "4. Reverse a list using slicing and a loop.\n",
    "---"
   ]
  },
  {
   "cell_type": "code",
   "execution_count": 22,
   "id": "7ca9ecdf-f89c-41aa-800d-f79408723a36",
   "metadata": {},
   "outputs": [
    {
     "name": "stdout",
     "output_type": "stream",
     "text": [
      "Reversed list  using slicing [50, 40, 30, 20, 10]\n",
      "Reversed list using loop     [50, 40, 30, 20, 10]\n"
     ]
    }
   ],
   "source": [
    "numbers = [10, 20, 30, 40, 50]\n",
    "\n",
    "#Using slicing\n",
    "rlist_slicing=numbers[::-1]\n",
    "print('Reversed list  using slicing',rlist_slicing)\n",
    "\n",
    "#Using loop\n",
    "rlist_loop=[]\n",
    "x=len(numbers)\n",
    "for i in range(x-1,-1,-1):\n",
    "    rlist_loop.append(numbers[i])\n",
    "print('Reversed list using loop    ',rlist_loop)"
   ]
  },
  {
   "cell_type": "markdown",
   "id": "1be9c24f-945b-4f05-bc54-3fda8966d6a3",
   "metadata": {},
   "source": [
    "5. Merge two sorted lists into a single sorted list.\n",
    "---"
   ]
  },
  {
   "cell_type": "code",
   "execution_count": 25,
   "id": "28992ccb-d185-4770-a892-7d85b1dcb6ff",
   "metadata": {},
   "outputs": [
    {
     "name": "stdout",
     "output_type": "stream",
     "text": [
      "Merged sorted list: [1, 2, 3, 4, 5, 6, 7, 8, 10]\n"
     ]
    }
   ],
   "source": [
    "L1=[1,3,5,7]\n",
    "L2=[2,4,6,8,10]\n",
    "sorted_list=sorted(L1+L2)\n",
    "print('Merged sorted list:',sorted_list)"
   ]
  },
  {
   "cell_type": "markdown",
   "id": "38a04761-cdca-4a33-955b-7b514abc4693",
   "metadata": {},
   "source": [
    "6. Convert a list into a tuple and vice versa.\n",
    "---"
   ]
  },
  {
   "cell_type": "code",
   "execution_count": 28,
   "id": "c7e47777-113c-4140-8cda-885d3582d694",
   "metadata": {},
   "outputs": [
    {
     "name": "stdout",
     "output_type": "stream",
     "text": [
      "List: [10, 20, 30, 40]\n",
      "Converted list: (10, 20, 30, 40)\n",
      "\n",
      "Tuple: (10, 20, 30, 40)\n",
      "Converted List: [10, 20, 30, 40]\n"
     ]
    }
   ],
   "source": [
    "#Convert a list into tuple\n",
    "lt_list=[10,20,30,40]\n",
    "lt_tuple=tuple(lt_list)\n",
    "print('List:',lt_list)\n",
    "print('Converted list:',lt_tuple)\n",
    "print()\n",
    "\n",
    "#Convert a tuple to list \n",
    "tl_tuple=(10, 20, 30, 40)\n",
    "tl_list=list(tl_tuple)\n",
    "print('Tuple:',tl_tuple)\n",
    "print('Converted List:',tl_list)"
   ]
  },
  {
   "cell_type": "markdown",
   "id": "95edb021-bcb3-4fb4-864e-30edb67044a7",
   "metadata": {},
   "source": [
    "7. Find the common elements in two sets.\n",
    "---"
   ]
  },
  {
   "cell_type": "code",
   "execution_count": 31,
   "id": "bd6a356c-00e2-4abf-a316-efb44f6f0a90",
   "metadata": {},
   "outputs": [
    {
     "name": "stdout",
     "output_type": "stream",
     "text": [
      "Common elements: {4, 5}\n"
     ]
    }
   ],
   "source": [
    "set1={1, 2, 3, 4, 5}\n",
    "set2={4, 5, 6, 7, 8}\n",
    "common=set1&set2 #Using intersection operator &\n",
    "print('Common elements:',common)"
   ]
  },
  {
   "cell_type": "markdown",
   "id": "72d6b458-cc88-4860-bce8-36694ea076bd",
   "metadata": {},
   "source": [
    "8. Write a program to remove duplicate elements from a list using a set.\n",
    "---"
   ]
  },
  {
   "cell_type": "code",
   "execution_count": 33,
   "id": "3dc08415-e35e-4d59-9470-58c46f7252dd",
   "metadata": {},
   "outputs": [
    {
     "name": "stdout",
     "output_type": "stream",
     "text": [
      "List after removing duplicates: [40, 10, 50, 20, 30]\n"
     ]
    }
   ],
   "source": [
    "my_list=[10, 20, 30, 20, 40, 10, 50, 30]\n",
    "unique=list(set(my_list)) #Convert to set (removes duplicates), then back to list\n",
    "print('List after removing duplicates:',unique)"
   ]
  },
  {
   "cell_type": "markdown",
   "id": "7bb3fdff-e8e6-47c4-bc02-8f9106e6b512",
   "metadata": {},
   "source": [
    "9. Check if two sets are disjoint.\n",
    "---"
   ]
  },
  {
   "cell_type": "code",
   "execution_count": 40,
   "id": "edb87f08-da8a-45a2-a148-0f56e6db6b60",
   "metadata": {},
   "outputs": [
    {
     "name": "stdout",
     "output_type": "stream",
     "text": [
      "Set1 and Set2 disjoint? => True\n",
      "Set1 and Set3 disjoint? => False\n",
      "Set2 and Set3 disjoint? => False\n"
     ]
    }
   ],
   "source": [
    "set1 = {1, 2, 3}\n",
    "set2 = {4, 5, 6}\n",
    "set3 = {3, 6, 9}\n",
    "print(\"Set1 and Set2 disjoint? =>\",set1.isdisjoint(set2)) \n",
    "print(\"Set1 and Set3 disjoint? =>\",set1.isdisjoint(set3))\n",
    "print(\"Set2 and Set3 disjoint? =>\",set2.isdisjoint(set3))  "
   ]
  },
  {
   "cell_type": "markdown",
   "id": "bbd98f20-4aad-4537-96b0-4b79fbf3f0f5",
   "metadata": {},
   "source": [
    "10. Create a set from user input and check membership of an element.\n",
    "---"
   ]
  },
  {
   "cell_type": "code",
   "execution_count": 53,
   "id": "70430ef1-ac77-41f0-823e-9543c12f6492",
   "metadata": {},
   "outputs": [
    {
     "name": "stdin",
     "output_type": "stream",
     "text": [
      "Enter the set (just enter with a single space): 1 2 3 4 5 6\n"
     ]
    },
    {
     "name": "stdout",
     "output_type": "stream",
     "text": [
      "Created set: {'2', '3', '1', '6', '5', '4'}\n"
     ]
    },
    {
     "name": "stdin",
     "output_type": "stream",
     "text": [
      "Enter an element to check 10\n"
     ]
    },
    {
     "name": "stdout",
     "output_type": "stream",
     "text": [
      "10 is not present in the set\n"
     ]
    }
   ],
   "source": [
    "#Taking input from user (space-seperated values)\n",
    "user_input=set(input('Enter the set (just enter with a single space):').split())\n",
    "print('Created set:',user_input)\n",
    "#Checking membership\n",
    "element=input('Enter an element to check')\n",
    "if element in user_input:\n",
    "    print(element,'is present in the set')\n",
    "else:\n",
    "    print(element,'is not present in the set')"
   ]
  },
  {
   "cell_type": "markdown",
   "id": "58ed154b-f4a7-4ec5-8604-f6f22e1bec32",
   "metadata": {},
   "source": [
    "11. Count the frequency of each character in a string using a dictionary.\n",
    "---"
   ]
  },
  {
   "cell_type": "code",
   "execution_count": 57,
   "id": "e297cc35-ca3c-4058-be16-158feab68fd1",
   "metadata": {},
   "outputs": [
    {
     "name": "stdin",
     "output_type": "stream",
     "text": [
      "Enter a string: hello\n"
     ]
    },
    {
     "name": "stdout",
     "output_type": "stream",
     "text": [
      "Character frequencies:\n",
      "h : 1\n",
      "e : 1\n",
      "l : 2\n",
      "o : 1\n"
     ]
    }
   ],
   "source": [
    "text=input('Enter a string:')\n",
    "freq={}\n",
    "for char in text:\n",
    "    if char in freq:\n",
    "        freq[char]+=1\n",
    "    else:\n",
    "        freq[char]=1\n",
    "print('Character frequencies:')\n",
    "for k,v in freq.items():\n",
    "    print(k,':',v)"
   ]
  },
  {
   "cell_type": "markdown",
   "id": "e35bd0e0-c24b-4267-a613-ec995e957e57",
   "metadata": {},
   "source": [
    "12. Create a dictionary from two lists: one of keys and one of values.\n",
    "---"
   ]
  },
  {
   "cell_type": "code",
   "execution_count": 68,
   "id": "c3093d2c-7bf4-4f15-a0b2-c64d96c33f41",
   "metadata": {},
   "outputs": [
    {
     "name": "stdout",
     "output_type": "stream",
     "text": [
      "Dictionary: {'name': 'Sam', 'age': 25, 'city': 'Alberquerque'}\n"
     ]
    }
   ],
   "source": [
    "keys=[\"name\",\"age\",\"city\"]\n",
    "values=[\"Sam\",25,\"Alberquerque\"]\n",
    "my_dict={keys[i]:values[i] for i in range(len(keys))}\n",
    "print('Dictionary:',my_dict)"
   ]
  },
  {
   "cell_type": "markdown",
   "id": "801e4857-4bd4-4abe-acbe-ca68d4ae98bc",
   "metadata": {},
   "source": [
    "13. Write a program to sort a dictionary by its values.\n",
    "---"
   ]
  },
  {
   "cell_type": "code",
   "execution_count": 77,
   "id": "3ad22057-3b23-413c-97ff-4847f767a27d",
   "metadata": {},
   "outputs": [
    {
     "name": "stdout",
     "output_type": "stream",
     "text": [
      "Sorted dictionary: {'banana': 2, 'orange': 3, 'apple': 5, 'mango': 8}\n"
     ]
    }
   ],
   "source": [
    "fruits={'apple':5,'banana':2,'mango':8,'orange':3}\n",
    "sorted_items=sorted(fruits.items(),key=lambda x:x[1])\n",
    "print('Sorted dictionary:',dict(sorted_items))"
   ]
  },
  {
   "cell_type": "markdown",
   "id": "aace56e2-45df-4f81-a94a-ea309d426f38",
   "metadata": {},
   "source": [
    "14. Merge two dictionaries into one.\n",
    "---"
   ]
  },
  {
   "cell_type": "code",
   "execution_count": 84,
   "id": "742acdc7-d144-4a2c-966e-191677460cfd",
   "metadata": {},
   "outputs": [
    {
     "data": {
      "text/plain": [
       "{'a': 1, 'b': 2, 'c': 3, 'd': 4}"
      ]
     },
     "execution_count": 84,
     "metadata": {},
     "output_type": "execute_result"
    }
   ],
   "source": [
    "dict1={'a':1,'b':2}\n",
    "dict2={'c':3,'d':4}\n",
    "dict1.update(dict2)\n",
    "dict1"
   ]
  },
  {
   "cell_type": "markdown",
   "id": "f822728f-8d37-4221-9efb-6c9aba8863ba",
   "metadata": {},
   "source": [
    "15. Find the key with the highest value in a dictionary.\n",
    "---"
   ]
  },
  {
   "cell_type": "code",
   "execution_count": 94,
   "id": "14038328-008c-483c-8ee4-d40bbd41274e",
   "metadata": {},
   "outputs": [
    {
     "name": "stdout",
     "output_type": "stream",
     "text": [
      "Vegetable with highest value: onion\n",
      "Its value is: 50\n"
     ]
    }
   ],
   "source": [
    "veggies={\"carrot\":25,\"potato\":40,\"tomato\":35,\"onion\":50}\n",
    "max_=max(veggies,key=veggies.get)\n",
    "print('Vegetable with highest value:',max_)\n",
    "print('Its value is:',veggies[max_])"
   ]
  },
  {
   "cell_type": "markdown",
   "id": "4fe62fb2-aea3-4e38-9135-796cae3f6c21",
   "metadata": {},
   "source": [
    "16. Write a function that checks if a number is prime.\n",
    "---"
   ]
  },
  {
   "cell_type": "code",
   "execution_count": 97,
   "id": "452daf23-74ce-4d54-a525-abc072da8797",
   "metadata": {},
   "outputs": [
    {
     "name": "stdin",
     "output_type": "stream",
     "text": [
      "Enter a number:  1\n"
     ]
    },
    {
     "name": "stdout",
     "output_type": "stream",
     "text": [
      "1 is not a prime number.\n"
     ]
    }
   ],
   "source": [
    "def is_prime(n):\n",
    "    if n<=1:\n",
    "        return False\n",
    "    for i in range(2,n):\n",
    "        if n%i==0:\n",
    "            return False\n",
    "    return True\n",
    "\n",
    "# Input from user\n",
    "num = int(input(\"Enter a number: \"))\n",
    "if is_prime(num):\n",
    "    print(num, \"is a prime number.\")\n",
    "else:\n",
    "    print(num, \"is not a prime number.\")"
   ]
  },
  {
   "cell_type": "markdown",
   "id": "28630c50-556c-42e0-82ff-876685ffeb86",
   "metadata": {},
   "source": [
    "17. Create a function that takes a string and returns the number of vowels.\n",
    "---\n"
   ]
  },
  {
   "cell_type": "code",
   "execution_count": 98,
   "id": "b59ec853-ddf6-44fc-a5ec-17bef0bd70a1",
   "metadata": {},
   "outputs": [
    {
     "name": "stdin",
     "output_type": "stream",
     "text": [
      "Enter a string: Hello World \n"
     ]
    },
    {
     "name": "stdout",
     "output_type": "stream",
     "text": [
      "3\n"
     ]
    }
   ],
   "source": [
    "v=['a','e','i','o','u','A','E','I','O','U']\n",
    "vc=0\n",
    "s=input('Enter a string:')\n",
    "for i in s:\n",
    "    if i in v:\n",
    "        vc+=1\n",
    "print(vc)"
   ]
  },
  {
   "cell_type": "markdown",
   "id": "91a9f287-6a5f-44f6-a97f-1c94e9c13251",
   "metadata": {},
   "source": [
    "18. Write a function that takes a list of numbers and returns only the even numbers.\n",
    "---"
   ]
  },
  {
   "cell_type": "code",
   "execution_count": 100,
   "id": "2c374ace-36bd-421e-b198-9525e80b613d",
   "metadata": {},
   "outputs": [
    {
     "name": "stdout",
     "output_type": "stream",
     "text": [
      "The list of even numbers are: [2, 4, 6, 8, 10]\n"
     ]
    }
   ],
   "source": [
    "List=[1,2,3,4,5,6,7,8,9,10]\n",
    "eve=[n for n in List if n%2==0]\n",
    "print('The list of even numbers are:',eve)"
   ]
  },
  {
   "cell_type": "markdown",
   "id": "c7816263-61c7-459a-a425-97ab9c89adbf",
   "metadata": {},
   "source": [
    "19. Write a recursive function to calculate the factorial of a number.\n",
    "---"
   ]
  },
  {
   "cell_type": "code",
   "execution_count": 101,
   "id": "e9a952e5-cac0-4e27-a809-3aa6834604a0",
   "metadata": {},
   "outputs": [
    {
     "name": "stdin",
     "output_type": "stream",
     "text": [
      "Enter a Number 5\n"
     ]
    },
    {
     "data": {
      "text/plain": [
       "('The factorial of 5 is', 120)"
      ]
     },
     "execution_count": 101,
     "metadata": {},
     "output_type": "execute_result"
    }
   ],
   "source": [
    "def factorial(num):\n",
    "    f=1\n",
    "    if num==0:\n",
    "        return f'The factorial of {num} is',f\n",
    "    elif num<1:\n",
    "       return 'Undefined for NEGATIVE number'\n",
    "    else:\n",
    "        for i in range(1,num+1):\n",
    "            f=f*i\n",
    "    return f'The factorial of {num} is',f\n",
    "num=int(input(\"Enter a Number\"))\n",
    "factorial(num)"
   ]
  },
  {
   "cell_type": "markdown",
   "id": "ee28a2fe-a9c2-4b79-9121-3a66ad056fef",
   "metadata": {},
   "source": [
    "20. Write a function that returns the nth Fibonacci number using recursion.\n",
    "---"
   ]
  },
  {
   "cell_type": "code",
   "execution_count": 105,
   "id": "302d2253-2a06-429f-bcce-9878a26a9f0a",
   "metadata": {},
   "outputs": [
    {
     "name": "stdin",
     "output_type": "stream",
     "text": [
      "Enter which Fibonacci number to find:  10\n"
     ]
    },
    {
     "name": "stdout",
     "output_type": "stream",
     "text": [
      "The 10th Fibonacci number is 55\n"
     ]
    }
   ],
   "source": [
    "def fibonacci(n):\n",
    "    if n==0 or n==1:  \n",
    "        return n\n",
    "    return fibonacci(n-1)+fibonacci(n-2)  # Calls itself\n",
    "n = int(input(\"Enter which Fibonacci number to find: \"))\n",
    "print(f\"The {n}th Fibonacci number is {fibonacci(n)}\")"
   ]
  },
  {
   "cell_type": "markdown",
   "id": "3c9b0648-b206-449c-9dcf-94d72e9a2431",
   "metadata": {},
   "source": [
    "21. Write a function that takes a list and returns a dictionary with the count of each element.\n",
    "---"
   ]
  },
  {
   "cell_type": "code",
   "execution_count": 108,
   "id": "535c6aea-8022-4f71-a47c-23093d0649c3",
   "metadata": {},
   "outputs": [
    {
     "name": "stdout",
     "output_type": "stream",
     "text": [
      "{'apple': 3, 'banana': 2, 'orange': 1}\n"
     ]
    }
   ],
   "source": [
    "def count_elements(lst):\n",
    "    count_dict = {}  \n",
    "    for i in lst:\n",
    "        if i in count_dict:\n",
    "            count_dict[i] += 1\n",
    "        else:\n",
    "            count_dict[i] = 1\n",
    "    return count_dict\n",
    "my_list = [\"apple\", \"banana\", \"apple\", \"orange\", \"banana\", \"apple\"]\n",
    "result = count_elements(my_list)\n",
    "print(result)"
   ]
  },
  {
   "cell_type": "markdown",
   "id": "e29859e1-5b6b-4611-86eb-eb3d0c420627",
   "metadata": {},
   "source": [
    "22. Create a function that returns the longest word from a list of words.\n",
    "---"
   ]
  },
  {
   "cell_type": "code",
   "execution_count": 110,
   "id": "da63c1f4-8df2-403a-9f84-cef862622f80",
   "metadata": {},
   "outputs": [
    {
     "name": "stdout",
     "output_type": "stream",
     "text": [
      "The longest word is: watermelon\n"
     ]
    }
   ],
   "source": [
    "def longest_word(words):\n",
    "    if not words: \n",
    "        return None\n",
    "    longest = words[0]  \n",
    "    for word in words:\n",
    "        if len(word) > len(longest):\n",
    "            longest = word\n",
    "    return longest\n",
    "word_list = [\"apple\", \"banana\", \"cherry\", \"watermelon\", \"kiwi\"]\n",
    "print(\"The longest word is:\", longest_word(word_list))"
   ]
  },
  {
   "cell_type": "markdown",
   "id": "9bb61426-1e56-49e8-8a41-604d14b45e2e",
   "metadata": {},
   "source": [
    "23. Define a function that accepts any number of arguments and returns their average.\n",
    "---"
   ]
  },
  {
   "cell_type": "code",
   "execution_count": 119,
   "id": "f5d88dae-b1d4-4733-a425-d4c4cdc7c3a5",
   "metadata": {},
   "outputs": [
    {
     "name": "stdin",
     "output_type": "stream",
     "text": [
      "Enter the numbers to find the avg (single space for muli entries): 1 2 3\n"
     ]
    },
    {
     "name": "stdout",
     "output_type": "stream",
     "text": [
      "Average: 2.0\n"
     ]
    }
   ],
   "source": [
    "def average(*args):\n",
    "    if not args:  \n",
    "        return 0\n",
    "    total = sum(args)\n",
    "    count = len(args)\n",
    "    return total/count\n",
    "n=input('Enter the numbers to find the avg (single space for muli entries):')\n",
    "numbers=[int(x) for x in n.split()]\n",
    "print('Average:',average(*numbers))"
   ]
  },
  {
   "cell_type": "markdown",
   "id": "a4abe158-42f4-409d-a55f-cfbf2e1abda6",
   "metadata": {},
   "source": [
    "24. Write a function with default arguments for user name and age, and print a greeting.\n",
    "---"
   ]
  },
  {
   "cell_type": "code",
   "execution_count": 124,
   "id": "c266c4de-86c9-40af-b01c-4dd361551bdc",
   "metadata": {},
   "outputs": [
    {
     "name": "stdout",
     "output_type": "stream",
     "text": [
      "Hello Guest! You are 18 years old.\n",
      "Hello Walter! You are 18 years old.\n",
      "Hello Walter! You are 17 years old.\n"
     ]
    }
   ],
   "source": [
    "def greet(name=\"Guest\", age=18):\n",
    "    print(f\"Hello {name}! You are {age} years old.\")\n",
    "greet()                       \n",
    "greet(\"Walter\")            \n",
    "greet(\"Walter\", 17)        \n"
   ]
  },
  {
   "cell_type": "markdown",
   "id": "be1119c2-8736-4889-9380-2a2a2356047b",
   "metadata": {},
   "source": [
    "25. Use a lambda function to sort a list of tuples by the second element.\n",
    "---\n"
   ]
  },
  {
   "cell_type": "code",
   "execution_count": 125,
   "id": "48368327-2cf8-45ab-ac8f-eeef3bce12c0",
   "metadata": {},
   "outputs": [
    {
     "name": "stdout",
     "output_type": "stream",
     "text": [
      "Sorted list: [(4, 1), (2, 2), (1, 5), (3, 9)]\n"
     ]
    }
   ],
   "source": [
    "my_list = [(1, 5), (2, 2), (3, 9), (4, 1)]\n",
    "sorted_list = sorted(my_list, key=lambda x: x[1])\n",
    "print(\"Sorted list:\", sorted_list)"
   ]
  },
  {
   "cell_type": "markdown",
   "id": "121d7398-b59b-44e1-8573-fe4cf1283249",
   "metadata": {},
   "source": [
    "26. Write a function that accepts a list of numbers and a condition function, and returns a filtered list.\n",
    "---"
   ]
  },
  {
   "cell_type": "code",
   "execution_count": 126,
   "id": "eb3d11f3-3cb4-4df6-8c96-b07246ed2068",
   "metadata": {},
   "outputs": [
    {
     "name": "stdout",
     "output_type": "stream",
     "text": [
      "Filtered list (even numbers): [2, 4, 6]\n"
     ]
    }
   ],
   "source": [
    "def filter_list(numbers, condition):\n",
    "    filtered = []\n",
    "    for num in numbers:\n",
    "        if condition(num):\n",
    "            filtered.append(num)\n",
    "    return filtered\n",
    "def is_even(n):\n",
    "    return n % 2 == 0\n",
    "nums = [1, 2, 3, 4, 5, 6]\n",
    "result = filter_list(nums, is_even)\n",
    "print(\"Filtered list (even numbers):\", result)"
   ]
  },
  {
   "cell_type": "markdown",
   "id": "26825fd3-2f57-4953-8528-e56908c3ed3e",
   "metadata": {},
   "source": [
    "27. Create a function to check whether a string is a palindrome or not.\n",
    "---"
   ]
  },
  {
   "cell_type": "code",
   "execution_count": 127,
   "id": "3bb18664-6181-4943-a64b-b44647c62b4b",
   "metadata": {},
   "outputs": [
    {
     "name": "stdin",
     "output_type": "stream",
     "text": [
      "Enter a word: mom\n"
     ]
    },
    {
     "name": "stdout",
     "output_type": "stream",
     "text": [
      "The given word is PALINDROME\n"
     ]
    }
   ],
   "source": [
    "def palindrome(x):\n",
    "    if x==x[::-1]:\n",
    "        print('The given word is PALINDROME')\n",
    "    else:\n",
    "        print('The given word is not PALINDROME')\n",
    "word=input('Enter a word:')\n",
    "w=word.lower()\n",
    "palindrome(w)"
   ]
  },
  {
   "cell_type": "markdown",
   "id": "9693bb9e-12a2-4f6e-9222-c31dd464b77e",
   "metadata": {},
   "source": [
    "28. Write a function to return the GCD of two numbers.\n",
    "---"
   ]
  },
  {
   "cell_type": "code",
   "execution_count": 128,
   "id": "165e021a-21cb-4228-9617-35282fd935eb",
   "metadata": {},
   "outputs": [
    {
     "name": "stdin",
     "output_type": "stream",
     "text": [
      "Enter first number:  24\n",
      "Enter second number:  36\n"
     ]
    },
    {
     "name": "stdout",
     "output_type": "stream",
     "text": [
      "GCD is 12\n"
     ]
    }
   ],
   "source": [
    "def gcd(a, b):\n",
    "    while b != 0:\n",
    "        a, b = b, a % b\n",
    "    return a\n",
    "num1 = int(input(\"Enter first number: \"))\n",
    "num2 = int(input(\"Enter second number: \"))\n",
    "print(\"GCD is\", gcd(num1, num2))"
   ]
  },
  {
   "cell_type": "markdown",
   "id": "6a8da715-d194-4d1c-a524-a3f8efbb1092",
   "metadata": {},
   "source": [
    "29. Define a function that returns another function (closure) that adds a fixed number to its input.\n",
    "---"
   ]
  },
  {
   "cell_type": "code",
   "execution_count": 143,
   "id": "a70ac672-92c7-460f-b43f-3777050e50bd",
   "metadata": {},
   "outputs": [
    {
     "name": "stdout",
     "output_type": "stream",
     "text": [
      "15\n",
      "8\n"
     ]
    }
   ],
   "source": [
    "def add_fixed_number(fixed):\n",
    "    def adder(x):\n",
    "        return x+fixed\n",
    "    return adder\n",
    "add5=add_fixed_number(5)\n",
    "print(add5(10))  \n",
    "print(add5(3))"
   ]
  },
  {
   "cell_type": "markdown",
   "id": "c3e38b39-bbd0-4f71-82e8-1378c6b4c389",
   "metadata": {},
   "source": [
    "30. Write a function to flatten a nested list (e.g., [[1,2],[3,4]] → [1,2,3,4]).\n",
    "---"
   ]
  },
  {
   "cell_type": "code",
   "execution_count": 144,
   "id": "2d2c4ef1-7dc7-4182-8ffd-5f7de1f089c8",
   "metadata": {},
   "outputs": [
    {
     "name": "stdout",
     "output_type": "stream",
     "text": [
      "Flattened list: [1, 2, 3, 4]\n"
     ]
    }
   ],
   "source": [
    "def flatten_list(nested_list):\n",
    "    flat_list = []\n",
    "    for sublist in nested_list:\n",
    "        for item in sublist:\n",
    "            flat_list.append(item)\n",
    "    return flat_list\n",
    "nums = [[1, 2], [3, 4]]\n",
    "print(\"Flattened list:\", flatten_list(nums))"
   ]
  },
  {
   "cell_type": "markdown",
   "id": "ebf38f36-54f4-4d88-90ed-1e0b515cd8d7",
   "metadata": {},
   "source": [
    "31. Write a recursive function to calculate the sum of a list.\n",
    "---"
   ]
  },
  {
   "cell_type": "code",
   "execution_count": 145,
   "id": "5d38bfaf-3e4b-48de-aea5-e734052c2e15",
   "metadata": {},
   "outputs": [
    {
     "name": "stdout",
     "output_type": "stream",
     "text": [
      "Sum of list: 15\n"
     ]
    }
   ],
   "source": [
    "def sum_list(lst):\n",
    "    if not lst:  \n",
    "        return 0\n",
    "    else:\n",
    "        return lst[0] + sum_list(lst[1:])  \n",
    "numbers = [1, 2, 3, 4, 5]\n",
    "print(\"Sum of list:\", sum_list(numbers))"
   ]
  },
  {
   "cell_type": "markdown",
   "id": "1fc616b8-5828-4630-bd25-87c8e02492b8",
   "metadata": {},
   "source": [
    "32. Define a function that takes two lists and returns a dictionary mapping elements of the first list to the second.\n",
    "---"
   ]
  },
  {
   "cell_type": "code",
   "execution_count": 146,
   "id": "47971b94-6ac5-4695-8033-1b53f1026a44",
   "metadata": {},
   "outputs": [
    {
     "name": "stdout",
     "output_type": "stream",
     "text": [
      "{'apple': 100, 'banana': 40, 'cherry': 60}\n"
     ]
    }
   ],
   "source": [
    "def lists_to_dict(keys, values):\n",
    "    return dict(zip(keys, values))\n",
    "names = [\"apple\", \"banana\", \"cherry\"]\n",
    "prices = [100, 40, 60]\n",
    "print(lists_to_dict(names, prices))"
   ]
  },
  {
   "cell_type": "markdown",
   "id": "8d6ab03b-f081-40bf-8ab4-85d8c39a89f5",
   "metadata": {},
   "source": [
    "33. Create a function to return all prime numbers in a given range.\n",
    "---"
   ]
  },
  {
   "cell_type": "code",
   "execution_count": 148,
   "id": "f41092d5-a506-4048-9428-4756947debe8",
   "metadata": {},
   "outputs": [
    {
     "name": "stdout",
     "output_type": "stream",
     "text": [
      "11\n",
      "13\n",
      "17\n",
      "19\n",
      "23\n",
      "29\n"
     ]
    }
   ],
   "source": [
    "def primes_in_range(start, end):\n",
    "    for num in range(start, end + 1):\n",
    "        if num > 1:\n",
    "            for i in range(2, num):\n",
    "                if num % i == 0:\n",
    "                    break\n",
    "            else:\n",
    "                print(num)\n",
    "primes_in_range(10, 30)"
   ]
  },
  {
   "cell_type": "markdown",
   "id": "46792278-000e-4ceb-baf8-3c553b958959",
   "metadata": {},
   "source": [
    "34. Write a function that mimics the zip() function.\n",
    "---"
   ]
  },
  {
   "cell_type": "code",
   "execution_count": 152,
   "id": "7a2c455b-2e4f-486b-b3ac-6e66c5111796",
   "metadata": {},
   "outputs": [
    {
     "name": "stdout",
     "output_type": "stream",
     "text": [
      "[(1, 'a'), (2, 'b'), (3, 'c')]\n"
     ]
    }
   ],
   "source": [
    "def my_zip(a, b):\n",
    "    result = []\n",
    "    for i in range(len(a)):\n",
    "        result.append((a[i], b[i]))\n",
    "    return result\n",
    "print(my_zip([1, 2, 3], ['a', 'b', 'c']))"
   ]
  },
  {
   "cell_type": "markdown",
   "id": "776bdcd1-3917-4a15-91e2-d903e6b30cba",
   "metadata": {},
   "source": [
    "35. Create a function that calculates compound interest given principal, rate, and time.\n",
    "---"
   ]
  },
  {
   "cell_type": "code",
   "execution_count": 154,
   "id": "75a760de-80e7-4ddd-9b5d-8c6ce82f9aa7",
   "metadata": {},
   "outputs": [
    {
     "name": "stdin",
     "output_type": "stream",
     "text": [
      "Enter principal amount:  1000\n",
      "Enter rate of interest (%):  5\n",
      "Enter time in years:  2\n"
     ]
    },
    {
     "name": "stdout",
     "output_type": "stream",
     "text": [
      "Compound Interest: 102.5\n"
     ]
    }
   ],
   "source": [
    "def compound_interest(principal, rate, time):\n",
    "    # CI formula: A = P * (1 + r/100)^t\n",
    "    amount = principal * (1 + rate/100) ** time\n",
    "    ci = amount - principal\n",
    "    return ci\n",
    "p = float(input(\"Enter principal amount: \"))\n",
    "r = float(input(\"Enter rate of interest (%): \"))\n",
    "t = float(input(\"Enter time in years: \"))\n",
    "print(\"Compound Interest:\", compound_interest(p, r, t))"
   ]
  },
  {
   "cell_type": "markdown",
   "id": "32caa6a0-7b54-4b4a-9808-ccb0d675cb03",
   "metadata": {},
   "source": [
    "36. Use a lambda function to add 10 to a given number.\n",
    "---"
   ]
  },
  {
   "cell_type": "code",
   "execution_count": 157,
   "id": "a8346fa0-0ebc-46d5-b03d-d7348f4b77cb",
   "metadata": {},
   "outputs": [
    {
     "name": "stdout",
     "output_type": "stream",
     "text": [
      "15\n",
      "30\n"
     ]
    }
   ],
   "source": [
    "add_10 = lambda x:x+10\n",
    "print(add_10(5))   \n",
    "print(add_10(20))  "
   ]
  },
  {
   "cell_type": "markdown",
   "id": "163bb229-999f-4cfa-bc52-26bfc81b337d",
   "metadata": {},
   "source": [
    "37. Sort a list of tuples based on the second element using a lambda function.\n",
    "---"
   ]
  },
  {
   "cell_type": "code",
   "execution_count": 160,
   "id": "02fb0776-7e41-4042-818e-d8a2acb47b78",
   "metadata": {},
   "outputs": [
    {
     "name": "stdout",
     "output_type": "stream",
     "text": [
      "Sorted list: [(4, 1), (2, 2), (1, 5), (3, 9)]\n"
     ]
    }
   ],
   "source": [
    "my_list=[(1,5),(2,2),(3,9),(4,1)]\n",
    "sorted_list=sorted(my_list,key=lambda x:x[1])\n",
    "print(\"Sorted list:\",sorted_list)"
   ]
  },
  {
   "cell_type": "markdown",
   "id": "5ceb1812-03be-4785-984b-8015dfc350e2",
   "metadata": {},
   "source": [
    "38. Sort a list of dictionaries by the value of a specific key using lambda.\n",
    "---"
   ]
  },
  {
   "cell_type": "code",
   "execution_count": 162,
   "id": "e8258b48-a63f-400e-9d8b-6ff16af1020b",
   "metadata": {},
   "outputs": [
    {
     "name": "stdout",
     "output_type": "stream",
     "text": [
      "Sorted list: [{'name': 'Bob', 'age': 22}, {'name': 'Charlie', 'age': 23}, {'name': 'Alice', 'age': 25}]\n"
     ]
    }
   ],
   "source": [
    "# List of dictionaries\n",
    "students = [\n",
    "    {\"name\": \"Alice\", \"age\": 25},\n",
    "    {\"name\": \"Bob\", \"age\": 22},\n",
    "    {\"name\": \"Charlie\", \"age\": 23}\n",
    "]\n",
    "#Sort by age\n",
    "sorted_students = sorted(students, key=lambda x: x[\"age\"])\n",
    "print(\"Sorted list:\", sorted_students)"
   ]
  },
  {
   "cell_type": "markdown",
   "id": "92703c5b-f3dd-46d8-86ec-0034ebfb7a92",
   "metadata": {},
   "source": [
    "39. Use lambda with map() to square each element in a list.\n",
    "---"
   ]
  },
  {
   "cell_type": "code",
   "execution_count": 165,
   "id": "9b9cb34d-f91c-46f4-9c3e-3e51fcc12d8c",
   "metadata": {},
   "outputs": [
    {
     "name": "stdout",
     "output_type": "stream",
     "text": [
      "Squared list: [1, 4, 9, 16, 25]\n"
     ]
    }
   ],
   "source": [
    "# Original list\n",
    "numbers = [1, 2, 3, 4, 5]\n",
    "# Use lambda with map to square each element\n",
    "squared = list(map(lambda x: x**2, numbers))\n",
    "print(\"Squared list:\", squared)"
   ]
  },
  {
   "cell_type": "markdown",
   "id": "15caf1c9-ce81-4568-aea2-85efdf25a676",
   "metadata": {},
   "source": [
    "40. Use lambda with filter() to get only the even numbers from a list.\n",
    "---"
   ]
  },
  {
   "cell_type": "code",
   "execution_count": 168,
   "id": "2b0b71ec-1e4c-447f-b202-0d8f8e934345",
   "metadata": {},
   "outputs": [
    {
     "name": "stdout",
     "output_type": "stream",
     "text": [
      "Even numbers: [2, 4, 6, 8, 10]\n"
     ]
    }
   ],
   "source": [
    "# Original list\n",
    "numbers=[1, 2, 3, 4, 5, 6, 7, 8, 9, 10]\n",
    "# Use lambda with filter to get even numbers\n",
    "even_numbers=list(filter(lambda x: x % 2 == 0, numbers))\n",
    "print(\"Even numbers:\", even_numbers)"
   ]
  },
  {
   "cell_type": "markdown",
   "id": "b6ec4932-61b1-423b-badd-bd38b8133831",
   "metadata": {},
   "source": [
    "41. Use lambda with reduce() to multiply all elements in a list.\n",
    "---"
   ]
  },
  {
   "cell_type": "code",
   "execution_count": 173,
   "id": "1333436a-a6c3-49be-88be-d4dbe1ca1084",
   "metadata": {},
   "outputs": [
    {
     "name": "stdout",
     "output_type": "stream",
     "text": [
      "Product of all elements: 120\n"
     ]
    }
   ],
   "source": [
    "from functools import reduce  # reduce is in functools module\n",
    "# Original list\n",
    "numbers = [1, 2, 3, 4, 5]\n",
    "# Use lambda with reduce to multiply all elements\n",
    "result = reduce(lambda x, y: x * y, numbers)\n",
    "print(\"Product of all elements:\", result)"
   ]
  },
  {
   "cell_type": "markdown",
   "id": "7cfc8fb2-9592-417f-aa1d-c93315cf8377",
   "metadata": {},
   "source": [
    "42. Create a lambda function to check if a number is divisible by both 3 and 5.\n",
    "---"
   ]
  },
  {
   "cell_type": "code",
   "execution_count": 172,
   "id": "1d64229e-4dbb-485f-a5ea-b809e21de03a",
   "metadata": {},
   "outputs": [
    {
     "name": "stdout",
     "output_type": "stream",
     "text": [
      "True\n",
      "False\n",
      "True\n"
     ]
    }
   ],
   "source": [
    "# Lambda function to check divisibility by both 3 and 5\n",
    "divisible = lambda x: x % 3 == 0 and x % 5 == 0\n",
    "print(divisible(15))  \n",
    "print(divisible(10))  \n",
    "print(divisible(30))  "
   ]
  },
  {
   "cell_type": "markdown",
   "id": "e8a3bad8-a488-4469-9bce-e7d140ae19f0",
   "metadata": {},
   "source": [
    "43. Use lambda with map() to convert a list of temperatures from Celsius to Fahrenheit.\n",
    "---"
   ]
  },
  {
   "cell_type": "code",
   "execution_count": 175,
   "id": "ad67899a-deb4-47c5-89b8-0012c70619d5",
   "metadata": {},
   "outputs": [
    {
     "name": "stdout",
     "output_type": "stream",
     "text": [
      "Temperatures in Fahrenheit: [32.0, 68.0, 98.6, 212.0]\n"
     ]
    }
   ],
   "source": [
    "# List of temperatures in Celsius\n",
    "celsius = [0, 20, 37, 100]\n",
    "# Convert to Fahrenheit using lambda and map\n",
    "fahrenheit = list(map(lambda c: (c * 9/5) + 32, celsius))\n",
    "print(\"Temperatures in Fahrenheit:\", fahrenheit)"
   ]
  },
  {
   "cell_type": "markdown",
   "id": "d04f1847-aea3-4583-8526-5a3c1b754479",
   "metadata": {},
   "source": [
    "44. Use lambda to sort a list of strings based on their length.\n",
    "---"
   ]
  },
  {
   "cell_type": "code",
   "execution_count": 176,
   "id": "708a1bf0-eb08-4f7a-8f67-be98956363e2",
   "metadata": {},
   "outputs": [
    {
     "name": "stdout",
     "output_type": "stream",
     "text": [
      "Sorted by length: ['fig', 'kiwi', 'apple', 'banana', 'cherry']\n"
     ]
    }
   ],
   "source": [
    "# List of strings\n",
    "words = [\"apple\", \"kiwi\", \"banana\", \"cherry\", \"fig\"]\n",
    "# Sort by string length\n",
    "sorted_words = sorted(words, key=lambda x: len(x))\n",
    "print(\"Sorted by length:\", sorted_words)"
   ]
  },
  {
   "cell_type": "markdown",
   "id": "6328d37a-47f6-4312-b866-6736f6445fc1",
   "metadata": {},
   "source": [
    "45. Write a lambda that returns True if a string starts with a vowel.\n",
    "---"
   ]
  },
  {
   "cell_type": "code",
   "execution_count": 180,
   "id": "cbc7fa37-d999-48a1-8adb-574471db368c",
   "metadata": {},
   "outputs": [
    {
     "name": "stdout",
     "output_type": "stream",
     "text": [
      "True\n",
      "False\n",
      "True\n"
     ]
    }
   ],
   "source": [
    "# Lambda to check if a string starts with a vowel\n",
    "starts_with_vowel = lambda s: s[0].lower() in 'aeiou'\n",
    "print(starts_with_vowel(\"Apple\"))   \n",
    "print(starts_with_vowel(\"banana\"))   \n",
    "print(starts_with_vowel(\"Orange\"))  "
   ]
  },
  {
   "cell_type": "markdown",
   "id": "aa331dfa-7804-414e-bf18-70d3b4200117",
   "metadata": {},
   "source": [
    "46. Use lambda inside a function that returns a power function (closure).\n",
    "---"
   ]
  },
  {
   "cell_type": "code",
   "execution_count": 181,
   "id": "6024c841-263b-45f3-a40d-4c03f503cd34",
   "metadata": {},
   "outputs": [
    {
     "name": "stdout",
     "output_type": "stream",
     "text": [
      "25\n",
      "8\n"
     ]
    }
   ],
   "source": [
    "def make_power(n):\n",
    "    return lambda x: x ** n   \n",
    "square = make_power(2)\n",
    "cube = make_power(3)\n",
    "print(square(5))  \n",
    "print(cube(2))    "
   ]
  },
  {
   "cell_type": "markdown",
   "id": "db9cefd2-6753-4df5-a356-472c857a5b8f",
   "metadata": {},
   "source": [
    "47. Write a lambda to extract domain names from a list of email addresses.\n",
    "---"
   ]
  },
  {
   "cell_type": "code",
   "execution_count": 182,
   "id": "8f597dbc-3a90-43bc-9d2b-9408fcf5a7f7",
   "metadata": {},
   "outputs": [
    {
     "name": "stdout",
     "output_type": "stream",
     "text": [
      "Domain names: ['gmail.com', 'yahoo.com', 'outlook.com']\n"
     ]
    }
   ],
   "source": [
    "# List of email addresses\n",
    "emails = [\"alice@gmail.com\", \"bob@yahoo.com\", \"charlie@outlook.com\"]\n",
    "# Lambda with map to extract domains\n",
    "domains = list(map(lambda email: email.split('@')[1], emails))\n",
    "print(\"Domain names:\", domains)"
   ]
  },
  {
   "cell_type": "markdown",
   "id": "1f0118c8-29da-4062-9104-abfb88e601f5",
   "metadata": {},
   "source": [
    "48. Use lambda with filter() to remove empty strings from a list.\n",
    "---"
   ]
  },
  {
   "cell_type": "code",
   "execution_count": 183,
   "id": "38380cd7-f717-4186-b5f7-1b682b1755ec",
   "metadata": {},
   "outputs": [
    {
     "name": "stdout",
     "output_type": "stream",
     "text": [
      "After removing empty strings: ['apple', 'banana', 'cherry']\n"
     ]
    }
   ],
   "source": [
    "# List with empty strings\n",
    "words = [\"apple\", \"\", \"banana\", \" \", \"cherry\", \"\"]\n",
    "# Use lambda with filter to remove empty strings\n",
    "cleaned = list(filter(lambda x: x.strip() != \"\", words))\n",
    "print(\"After removing empty strings:\", cleaned)"
   ]
  },
  {
   "cell_type": "markdown",
   "id": "e9c7bc47-80f4-40bc-909d-c9270a0a7e5c",
   "metadata": {},
   "source": [
    "49. Create a list of lambda functions, each returning a different multiple of 5 (e.g., 5, 10, 15,...).\n",
    "---"
   ]
  },
  {
   "cell_type": "code",
   "execution_count": 184,
   "id": "fe028644-5749-45ef-b55e-057807e0fae9",
   "metadata": {},
   "outputs": [
    {
     "name": "stdout",
     "output_type": "stream",
     "text": [
      "5\n",
      "10\n",
      "15\n",
      "20\n",
      "25\n"
     ]
    }
   ],
   "source": [
    "# Create list of lambda functions\n",
    "multiples = [lambda x=n: x * 5 for n in range(1, 6)]\n",
    "# Example usage — call each function\n",
    "for func in multiples:\n",
    "    print(func())"
   ]
  },
  {
   "cell_type": "markdown",
   "id": "f18f3b71-f2fe-452d-97ba-817d4a88ad9b",
   "metadata": {},
   "source": [
    "50. Use a lambda to find the maximum element in a list of tuples by sum of tuple elements.\n",
    "---"
   ]
  },
  {
   "cell_type": "code",
   "execution_count": 185,
   "id": "b1a755d3-3ac9-4b08-9acf-b85bcfe3b305",
   "metadata": {},
   "outputs": [
    {
     "name": "stdout",
     "output_type": "stream",
     "text": [
      "Tuple with maximum sum: (2, 8)\n"
     ]
    }
   ],
   "source": [
    "# List of tuples\n",
    "tuples_list = [(1, 2), (3, 4), (5, 1), (2, 8)]\n",
    "# Find the tuple with maximum sum\n",
    "max_tuple = max(tuples_list, key=lambda x: sum(x))\n",
    "print(\"Tuple with maximum sum:\", max_tuple)"
   ]
  },
  {
   "cell_type": "markdown",
   "id": "365c2fed-38f9-4e77-a384-faf17fc2e0a3",
   "metadata": {},
   "source": [
    "51. Use lambda and map() to convert a list of integers to strings.\n",
    "---"
   ]
  },
  {
   "cell_type": "code",
   "execution_count": 186,
   "id": "80bf598b-7714-4864-b870-08b3475f04e6",
   "metadata": {},
   "outputs": [
    {
     "name": "stdout",
     "output_type": "stream",
     "text": [
      "List of strings: ['1', '2', '3', '4', '5']\n"
     ]
    }
   ],
   "source": [
    "# List of integers\n",
    "numbers = [1, 2, 3, 4, 5]\n",
    "# Convert to strings using lambda and map\n",
    "str_numbers = list(map(lambda x: str(x), numbers))\n",
    "print(\"List of strings:\", str_numbers)"
   ]
  },
  {
   "cell_type": "markdown",
   "id": "5d14d159-864d-4823-89c7-8679e4dc7bb9",
   "metadata": {},
   "source": [
    "52. Use lambda with filter() to extract palindromic words from a list.\n",
    "---"
   ]
  },
  {
   "cell_type": "code",
   "execution_count": 187,
   "id": "8952971f-4159-4d67-aaf4-496a3d9e1be3",
   "metadata": {},
   "outputs": [
    {
     "name": "stdout",
     "output_type": "stream",
     "text": [
      "Palindromic words: ['level', 'radar', 'civic']\n"
     ]
    }
   ],
   "source": [
    "# List of words\n",
    "words = [\"level\", \"apple\", \"radar\", \"banana\", \"civic\", \"hello\"]\n",
    "# Use lambda with filter to get palindromes\n",
    "palindromes = list(filter(lambda w: w == w[::-1], words))\n",
    "print(\"Palindromic words:\", palindromes)"
   ]
  },
  {
   "cell_type": "markdown",
   "id": "83d4e827-f771-41ff-a5a8-dd91b5e6c106",
   "metadata": {},
   "source": [
    "53. Use lambda with sorted() to sort a list of strings by their last character.\n",
    "---"
   ]
  },
  {
   "cell_type": "code",
   "execution_count": 188,
   "id": "6757d682-9413-4f4b-a30d-81be2e567450",
   "metadata": {},
   "outputs": [
    {
     "name": "stdout",
     "output_type": "stream",
     "text": [
      "Sorted by last character: ['banana', 'apple', 'date', 'cherry']\n"
     ]
    }
   ],
   "source": [
    "# List of strings\n",
    "words = [\"apple\", \"banana\", \"cherry\", \"date\"]\n",
    "# Sort by last character\n",
    "sorted_words = sorted(words, key=lambda x: x[-1])\n",
    "print(\"Sorted by last character:\", sorted_words)"
   ]
  },
  {
   "cell_type": "markdown",
   "id": "915b8cb4-3807-4ddc-8483-57dc4b297d32",
   "metadata": {},
   "source": [
    "54. Combine lambda, map(), and zip() to add two lists element-wise.\n",
    "---"
   ]
  },
  {
   "cell_type": "code",
   "execution_count": 189,
   "id": "7c6ceb9f-08d3-4c00-9824-80f90602280c",
   "metadata": {},
   "outputs": [
    {
     "name": "stdout",
     "output_type": "stream",
     "text": [
      "Element-wise sum: [11, 22, 33, 44]\n"
     ]
    }
   ],
   "source": [
    "# Two lists\n",
    "list1 = [1, 2, 3, 4]\n",
    "list2 = [10, 20, 30, 40]\n",
    "# Add element-wise using lambda, map, and zip\n",
    "sum_list = list(map(lambda x: x[0] + x[1], zip(list1, list2)))\n",
    "print(\"Element-wise sum:\", sum_list)"
   ]
  },
  {
   "cell_type": "markdown",
   "id": "4c641fa2-89c2-4d7f-9a6e-5d352a48a527",
   "metadata": {},
   "source": [
    "55. Use lambda to count how many strings in a list have length > 5.\n",
    "---"
   ]
  },
  {
   "cell_type": "code",
   "execution_count": 192,
   "id": "1ce5e8d1-be77-4f08-8439-2cbdb7874a34",
   "metadata": {},
   "outputs": [
    {
     "name": "stdout",
     "output_type": "stream",
     "text": [
      "Number of strings with length > 5: 3\n"
     ]
    }
   ],
   "source": [
    "# List of strings\n",
    "words = [\"apple\", \"banana\", \"cherry\", \"fig\", \"watermelon\"]\n",
    "# Count strings with length > 5 using lambda and filter\n",
    "count = len(list(filter(lambda x: len(x) > 5, words)))\n",
    "print(\"Number of strings with length > 5:\", count)"
   ]
  },
  {
   "cell_type": "markdown",
   "id": "07ab4c3b-0842-4154-a992-f9789b6a78ff",
   "metadata": {},
   "source": [
    "56. Write a program to create a text file and write \"Hello, World!\" into it.\n",
    "---"
   ]
  },
  {
   "cell_type": "code",
   "execution_count": 193,
   "id": "81740337-bc36-4e30-90e4-268453d2f988",
   "metadata": {},
   "outputs": [
    {
     "name": "stdout",
     "output_type": "stream",
     "text": [
      "Text file created and message written successfully.\n"
     ]
    }
   ],
   "source": [
    "# Open a file in write mode \n",
    "with open(\"hello.txt\", \"w\") as file:\n",
    "    file.write(\"Hello, World!\")\n",
    "print(\"Text file created and message written successfully.\")"
   ]
  },
  {
   "cell_type": "markdown",
   "id": "294a3aa2-a63b-4b49-bae6-d625287e71ef",
   "metadata": {},
   "source": [
    "57. Write a program to read the contents of a file and print them line by line.\n",
    "---"
   ]
  },
  {
   "cell_type": "code",
   "execution_count": 194,
   "id": "43f3ef36-0b61-4dad-b2f3-0a1b5c69079a",
   "metadata": {},
   "outputs": [
    {
     "name": "stdout",
     "output_type": "stream",
     "text": [
      "Hello, World!\n"
     ]
    }
   ],
   "source": [
    "# Open the file in read mode\n",
    "with open(\"hello.txt\", \"r\") as file:\n",
    "    # Read and print each line\n",
    "    for line in file:\n",
    "        print(line.strip())  # strip() removes the newline character"
   ]
  },
  {
   "cell_type": "markdown",
   "id": "7ae02e2f-018d-4ddd-9efe-12e06822c670",
   "metadata": {},
   "source": [
    "58. Append a new line to an existing file without overwriting its contents.\n",
    "---"
   ]
  },
  {
   "cell_type": "code",
   "execution_count": 196,
   "id": "8339a4d4-52fc-4bb5-a058-a3e9604bbedf",
   "metadata": {},
   "outputs": [
    {
     "name": "stdout",
     "output_type": "stream",
     "text": [
      "New line appended successfully.\n"
     ]
    }
   ],
   "source": [
    "# Open the file in append mode\n",
    "with open(\"hello.txt\", \"a\") as file:\n",
    "    file.write(\"\\nThis is a new line.\")\n",
    "print(\"New line appended successfully.\")"
   ]
  },
  {
   "cell_type": "markdown",
   "id": "b8867953-3450-46ba-9d9c-209f3d750d5b",
   "metadata": {},
   "source": [
    "59. Count the number of words in a given file.\n",
    "---"
   ]
  },
  {
   "cell_type": "code",
   "execution_count": 197,
   "id": "dbde8cc0-271f-4bf4-8648-10d7d92cc831",
   "metadata": {},
   "outputs": [
    {
     "name": "stdout",
     "output_type": "stream",
     "text": [
      "Number of words in the file: 12\n"
     ]
    }
   ],
   "source": [
    "# Open the file in read mode\n",
    "with open(\"hello.txt\", \"r\") as file:\n",
    "    content = file.read()           # Read the entire file\n",
    "    words = content.split()         # Split by whitespace to get words\n",
    "    word_count = len(words)         # Count the number of words\n",
    "print(\"Number of words in the file:\", word_count)"
   ]
  },
  {
   "cell_type": "markdown",
   "id": "50913c4a-f48e-4414-868b-2ce423bdef0f",
   "metadata": {},
   "source": [
    "60. Copy the contents of one file to another.\n",
    "---"
   ]
  },
  {
   "cell_type": "code",
   "execution_count": 199,
   "id": "98e3bc8e-beb2-4487-ab1c-5d9872d06552",
   "metadata": {},
   "outputs": [
    {
     "name": "stdout",
     "output_type": "stream",
     "text": [
      "Contents copied successfully.\n"
     ]
    }
   ],
   "source": [
    "with open(\"source.txt\", \"w\") as f:\n",
    "    f.write(\"Hello World.\\n\")\n",
    "# Open the source file in read mode and destination file in write mode\n",
    "with open(\"source.txt\", \"r\") as src, open(\"destination.txt\", \"w\") as dest:\n",
    "    for line in src:\n",
    "        dest.write(line)\n",
    "print(\"Contents copied successfully.\")"
   ]
  },
  {
   "cell_type": "markdown",
   "id": "d2248ef8-ae42-4e22-b6ef-e1dcab061668",
   "metadata": {},
   "source": [
    "61. Write a program to read a file and count how many lines it has.\n",
    "---"
   ]
  },
  {
   "cell_type": "code",
   "execution_count": 200,
   "id": "fa2b9f27-6489-4d2a-bed7-a5dc228fe47c",
   "metadata": {},
   "outputs": [
    {
     "name": "stdout",
     "output_type": "stream",
     "text": [
      "Number of lines in the file: 3\n"
     ]
    }
   ],
   "source": [
    "# Open the file in read mode\n",
    "with open(\"hello.txt\", \"r\") as file:\n",
    "    line_count = sum(1 for line in file)  # Count lines\n",
    "print(\"Number of lines in the file:\", line_count)"
   ]
  },
  {
   "cell_type": "markdown",
   "id": "2a78aa59-10cd-45b7-9c4d-d50237fd48e5",
   "metadata": {},
   "source": [
    "62. Write a program to read a file and display only the lines that contain the word \"Python\".\n",
    "---"
   ]
  },
  {
   "cell_type": "code",
   "execution_count": 206,
   "id": "7eab4467-8fda-4385-840b-6e4effa874c3",
   "metadata": {},
   "outputs": [
    {
     "name": "stdout",
     "output_type": "stream",
     "text": [
      "Welcome to Python.\n",
      "Python is fun!\n"
     ]
    }
   ],
   "source": [
    "# Create sample file\n",
    "with open(\"hello.txt\", \"w\") as f:\n",
    "    f.write(\"Hello, World!\\nWelcome to Python.\\nPython is fun!\\nI love coding.\")\n",
    "# Read lines containing 'Python'\n",
    "with open(\"hello.txt\", \"r\") as file:\n",
    "    for line in file:\n",
    "        if \"Python\" in line:\n",
    "            print(line.strip())"
   ]
  },
  {
   "cell_type": "markdown",
   "id": "7525fc54-5135-456e-b0b3-e7ffd9e82707",
   "metadata": {},
   "source": [
    "63. Create a function that takes a filename and returns the number of characters in that file.\n",
    "---"
   ]
  },
  {
   "cell_type": "code",
   "execution_count": 207,
   "id": "22eaa2a3-eb06-47a8-9f7d-67128dde8e61",
   "metadata": {},
   "outputs": [
    {
     "name": "stdout",
     "output_type": "stream",
     "text": [
      "Number of characters in hello.txt: 62\n"
     ]
    }
   ],
   "source": [
    "def count_characters(filename):\n",
    "    try:\n",
    "        with open(filename, \"r\") as file:\n",
    "            content = file.read()        # Read the entire file\n",
    "            return len(content)          # Count characters\n",
    "    except FileNotFoundError:\n",
    "        print(\"File not found!\")\n",
    "        return 0\n",
    "filename = \"hello.txt\"\n",
    "print(f\"Number of characters in {filename}:\", count_characters(filename))"
   ]
  },
  {
   "cell_type": "markdown",
   "id": "20ef5bbe-7ab7-465c-be9e-72729248d790",
   "metadata": {},
   "source": [
    "64. Write a program that divides two numbers and handles ZeroDivisionError.\n",
    "---"
   ]
  },
  {
   "cell_type": "code",
   "execution_count": 208,
   "id": "cd9849f1-cceb-48aa-b3f3-a82b2fb6ad16",
   "metadata": {},
   "outputs": [
    {
     "name": "stdin",
     "output_type": "stream",
     "text": [
      "Enter the numerator:  6\n",
      "Enter the denominator:  3\n"
     ]
    },
    {
     "name": "stdout",
     "output_type": "stream",
     "text": [
      "Result: 2.0\n"
     ]
    }
   ],
   "source": [
    "# Take input from the user\n",
    "num1 = float(input(\"Enter the numerator: \"))\n",
    "num2 = float(input(\"Enter the denominator: \"))\n",
    "try:\n",
    "    result = num1 / num2\n",
    "    print(\"Result:\", result)\n",
    "except ZeroDivisionError:\n",
    "    print(\"Error: Cannot divide by zero!\")"
   ]
  },
  {
   "cell_type": "markdown",
   "id": "9b2e523f-a2f4-4c29-93ee-585f3a92b815",
   "metadata": {},
   "source": [
    "65. Read a number from the user and raise a ValueError if it's negative.\n",
    "---"
   ]
  },
  {
   "cell_type": "code",
   "execution_count": 210,
   "id": "82a25e19-84fe-4598-9716-1bea24fdb98d",
   "metadata": {},
   "outputs": [
    {
     "name": "stdin",
     "output_type": "stream",
     "text": [
      "Enter a number:  -5\n"
     ]
    },
    {
     "ename": "ValueError",
     "evalue": "Error: Negative numbers are not allowed!",
     "output_type": "error",
     "traceback": [
      "\u001b[1;31m---------------------------------------------------------------------------\u001b[0m",
      "\u001b[1;31mValueError\u001b[0m                                Traceback (most recent call last)",
      "Cell \u001b[1;32mIn[210], line 5\u001b[0m\n\u001b[0;32m      3\u001b[0m \u001b[38;5;66;03m# Check if the number is negative\u001b[39;00m\n\u001b[0;32m      4\u001b[0m \u001b[38;5;28;01mif\u001b[39;00m num \u001b[38;5;241m<\u001b[39m \u001b[38;5;241m0\u001b[39m:\n\u001b[1;32m----> 5\u001b[0m     \u001b[38;5;28;01mraise\u001b[39;00m \u001b[38;5;167;01mValueError\u001b[39;00m(\u001b[38;5;124m\"\u001b[39m\u001b[38;5;124mError: Negative numbers are not allowed!\u001b[39m\u001b[38;5;124m\"\u001b[39m)\n\u001b[0;32m      6\u001b[0m \u001b[38;5;28mprint\u001b[39m(\u001b[38;5;124m\"\u001b[39m\u001b[38;5;124mYou entered:\u001b[39m\u001b[38;5;124m\"\u001b[39m, num)\n",
      "\u001b[1;31mValueError\u001b[0m: Error: Negative numbers are not allowed!"
     ]
    }
   ],
   "source": [
    "# Read a number from the user\n",
    "num = float(input(\"Enter a number: \"))\n",
    "# Check if the number is negative\n",
    "if num < 0:\n",
    "    raise ValueError(\"Error: Negative numbers are not allowed!\")\n",
    "print(\"You entered:\", num)"
   ]
  },
  {
   "cell_type": "markdown",
   "id": "1fe7a0bc-a383-480a-a870-b83e79352d7d",
   "metadata": {},
   "source": [
    "66. Write a program to open a file that may not exist and handle FileNotFoundError.\n",
    "---"
   ]
  },
  {
   "cell_type": "code",
   "execution_count": 211,
   "id": "4310f8dc-a8a8-4653-a448-d407784796af",
   "metadata": {},
   "outputs": [
    {
     "name": "stdout",
     "output_type": "stream",
     "text": [
      "Error: The file 'example.txt' does not exist!\n"
     ]
    }
   ],
   "source": [
    "filename = \"example.txt\"\n",
    "try:\n",
    "    with open(filename, \"r\") as file:\n",
    "        content = file.read()\n",
    "        print(\"File contents:\")\n",
    "        print(content)\n",
    "except FileNotFoundError:\n",
    "    print(f\"Error: The file '{filename}' does not exist!\")"
   ]
  },
  {
   "cell_type": "markdown",
   "id": "9038612e-4905-436c-b614-cafe016e2608",
   "metadata": {},
   "source": [
    "67. Create a function that handles both ValueError and TypeError while taking input.\n",
    "---"
   ]
  },
  {
   "cell_type": "code",
   "execution_count": 212,
   "id": "78c437d2-19e0-46ee-8213-86de3b61dbab",
   "metadata": {},
   "outputs": [
    {
     "name": "stdin",
     "output_type": "stream",
     "text": [
      "Enter an integer:  a\n"
     ]
    },
    {
     "name": "stdout",
     "output_type": "stream",
     "text": [
      "Error: Invalid input! Please enter a valid integer.\n",
      "You entered: None\n"
     ]
    }
   ],
   "source": [
    "def get_number():\n",
    "    try:\n",
    "        num = int(input(\"Enter an integer: \"))\n",
    "        return num\n",
    "    except ValueError:\n",
    "        print(\"Error: Invalid input! Please enter a valid integer.\")\n",
    "    except TypeError:\n",
    "        print(\"Error: Type mismatch occurred!\")\n",
    "number = get_number()\n",
    "print(\"You entered:\", number)"
   ]
  },
  {
   "cell_type": "markdown",
   "id": "63c2436a-4354-4fa7-bdbd-f2f8c0756aa3",
   "metadata": {},
   "source": [
    "68. Use a try...except...finally block to handle exceptions and close a file properly.\n",
    "---"
   ]
  },
  {
   "cell_type": "code",
   "execution_count": 213,
   "id": "25451c67-58c4-4022-ae67-0064fc92c6d7",
   "metadata": {},
   "outputs": [
    {
     "name": "stdout",
     "output_type": "stream",
     "text": [
      "Error: The file 'example.txt' does not exist!\n"
     ]
    }
   ],
   "source": [
    "filename = \"example.txt\"\n",
    "file = None\n",
    "try:\n",
    "    file = open(filename, \"r\")  # Attempt to open the file\n",
    "    content = file.read()\n",
    "    print(\"File contents:\")\n",
    "    print(content)\n",
    "except FileNotFoundError:\n",
    "    print(f\"Error: The file '{filename}' does not exist!\")\n",
    "except Exception as e:\n",
    "    print(\"An unexpected error occurred:\", e)\n",
    "finally:\n",
    "    if file:\n",
    "        file.close()  # Ensure the file is closed\n",
    "        print(\"File has been closed.\")"
   ]
  },
  {
   "cell_type": "markdown",
   "id": "a8333c9c-0899-40da-8fe2-8bc721841d8b",
   "metadata": {},
   "source": [
    "69. Write a program that attempts to convert user input to an integer and handles invalid input.\n",
    "---"
   ]
  },
  {
   "cell_type": "code",
   "execution_count": 215,
   "id": "cbe834a3-6a43-4cbe-bfc1-193c2b28b552",
   "metadata": {},
   "outputs": [
    {
     "name": "stdin",
     "output_type": "stream",
     "text": [
      "Enter a number:  123.3\n"
     ]
    },
    {
     "name": "stdout",
     "output_type": "stream",
     "text": [
      "Error: Invalid input! Please enter a valid integer.\n"
     ]
    }
   ],
   "source": [
    "try:\n",
    "    num = int(input(\"Enter a number: \"))\n",
    "    print(\"You entered:\", num)\n",
    "except ValueError:\n",
    "    print(\"Error: Invalid input! Please enter a valid integer.\")"
   ]
  },
  {
   "cell_type": "markdown",
   "id": "029230af-e3a2-4110-846d-da9adf6a361b",
   "metadata": {},
   "source": [
    "70. Use try...except to read from a file and display a custom error message if the file cannot be read.\n",
    "---"
   ]
  },
  {
   "cell_type": "code",
   "execution_count": 217,
   "id": "e50ff3ea-6367-4d7f-a54e-21323c56174b",
   "metadata": {},
   "outputs": [
    {
     "name": "stdout",
     "output_type": "stream",
     "text": [
      "Error: Cannot read the file 'example.txt'. Please check if it exists and is accessible.\n"
     ]
    }
   ],
   "source": [
    "filename = \"example.txt\"\n",
    "try:\n",
    "    with open(filename, \"r\") as file:\n",
    "        content = file.read()\n",
    "        print(\"File contents:\")\n",
    "        print(content)\n",
    "except (FileNotFoundError, IOError):\n",
    "    print(f\"Error: Cannot read the file '{filename}'. Please check if it exists and is accessible.\")"
   ]
  },
  {
   "cell_type": "markdown",
   "id": "281f0dbd-8882-4a1c-b8ef-56a81ce19081",
   "metadata": {},
   "source": [
    "71. Create a 4x4 NumPy array filled with random integers from 10 to 50. Replace all odd numbers with -1.\n",
    "---"
   ]
  },
  {
   "cell_type": "code",
   "execution_count": 219,
   "id": "25a6cf2a-1364-4c40-8c68-48d07c09e9fe",
   "metadata": {},
   "outputs": [
    {
     "name": "stdout",
     "output_type": "stream",
     "text": [
      "Original array:\n",
      " [[26 48 49 44]\n",
      " [38 14 35 48]\n",
      " [39 13 17 39]\n",
      " [38 50 39 32]]\n",
      "\n",
      "Array after replacing odd numbers with -1:\n",
      " [[26 48 -1 44]\n",
      " [38 14 -1 48]\n",
      " [-1 -1 -1 -1]\n",
      " [38 50 -1 32]]\n"
     ]
    }
   ],
   "source": [
    "import numpy as np\n",
    "# Create a 4x4 array of random integers from 10 to 50\n",
    "arr = np.random.randint(10, 51, size=(4, 4))\n",
    "print(\"Original array:\\n\", arr)\n",
    "# Replace odd numbers with -1\n",
    "arr[arr % 2 == 1] = -1\n",
    "print(\"\\nArray after replacing odd numbers with -1:\\n\", arr)"
   ]
  },
  {
   "cell_type": "markdown",
   "id": "3dd5d100-3826-4c0b-a6de-54f973abb9eb",
   "metadata": {},
   "source": [
    "72. Given a 1D NumPy array, write a program to compute the difference between each element and the mean of the array.\n",
    "---"
   ]
  },
  {
   "cell_type": "code",
   "execution_count": 221,
   "id": "74a94992-2550-44e7-b473-733f970ac1d9",
   "metadata": {},
   "outputs": [
    {
     "name": "stdout",
     "output_type": "stream",
     "text": [
      "Original array: [10 20 30 40 50]\n",
      "Mean of the array: 30.0\n",
      "Difference from mean: [-20. -10.   0.  10.  20.]\n"
     ]
    }
   ],
   "source": [
    "# Example 1D array\n",
    "arr = np.array([10, 20, 30, 40, 50])\n",
    "print(\"Original array:\", arr)\n",
    "# Compute the mean\n",
    "mean_val = np.mean(arr)\n",
    "print(\"Mean of the array:\", mean_val)\n",
    "# Compute difference between each element and the mean\n",
    "diff = arr - mean_val\n",
    "print(\"Difference from mean:\", diff)"
   ]
  },
  {
   "cell_type": "markdown",
   "id": "59e9f703-9f14-4250-96ca-32bdddfd2a5f",
   "metadata": {},
   "source": [
    "73. Create a 5x5 identity matrix and change the diagonal values to a custom value (e.g., 9).\n",
    "----"
   ]
  },
  {
   "cell_type": "code",
   "execution_count": 222,
   "id": "9acdcb6f-a843-47db-8a25-2b00278a9bfe",
   "metadata": {},
   "outputs": [
    {
     "name": "stdout",
     "output_type": "stream",
     "text": [
      "Original identity matrix:\n",
      " [[1. 0. 0. 0. 0.]\n",
      " [0. 1. 0. 0. 0.]\n",
      " [0. 0. 1. 0. 0.]\n",
      " [0. 0. 0. 1. 0.]\n",
      " [0. 0. 0. 0. 1.]]\n",
      "\n",
      "Matrix after changing diagonal values to 9:\n",
      " [[9. 0. 0. 0. 0.]\n",
      " [0. 9. 0. 0. 0.]\n",
      " [0. 0. 9. 0. 0.]\n",
      " [0. 0. 0. 9. 0.]\n",
      " [0. 0. 0. 0. 9.]]\n"
     ]
    }
   ],
   "source": [
    "# Create a 5x5 identity matrix\n",
    "matrix = np.eye(5)\n",
    "print(\"Original identity matrix:\\n\", matrix)\n",
    "# Change diagonal values to 9\n",
    "np.fill_diagonal(matrix, 9)\n",
    "print(\"\\nMatrix after changing diagonal values to 9:\\n\", matrix)"
   ]
  },
  {
   "cell_type": "markdown",
   "id": "c79d0fc1-2626-4d95-948a-e67282a0af19",
   "metadata": {},
   "source": [
    "74. Stack two NumPy arrays of shape (3, 4) vertically and horizontally.\n",
    "---"
   ]
  },
  {
   "cell_type": "code",
   "execution_count": 223,
   "id": "d7bb6b95-e339-4552-aff9-17064af31365",
   "metadata": {},
   "outputs": [
    {
     "name": "stdout",
     "output_type": "stream",
     "text": [
      "Vertically stacked array:\n",
      " [[ 1  2  3  4]\n",
      " [ 5  6  7  8]\n",
      " [ 9 10 11 12]\n",
      " [13 14 15 16]\n",
      " [17 18 19 20]\n",
      " [21 22 23 24]]\n",
      "\n",
      "Horizontally stacked array:\n",
      " [[ 1  2  3  4 13 14 15 16]\n",
      " [ 5  6  7  8 17 18 19 20]\n",
      " [ 9 10 11 12 21 22 23 24]]\n"
     ]
    }
   ],
   "source": [
    "# Create two sample arrays of shape (3, 4)\n",
    "arr1 = np.array([[1, 2, 3, 4],\n",
    "                 [5, 6, 7, 8],\n",
    "                 [9, 10, 11, 12]])\n",
    "arr2 = np.array([[13, 14, 15, 16],\n",
    "                 [17, 18, 19, 20],\n",
    "                 [21, 22, 23, 24]])\n",
    "# Vertical stacking (adds rows)\n",
    "v_stack = np.vstack((arr1, arr2))\n",
    "print(\"Vertically stacked array:\\n\", v_stack)\n",
    "# Horizontal stacking (adds columns)\n",
    "h_stack = np.hstack((arr1, arr2))\n",
    "print(\"\\nHorizontally stacked array:\\n\", h_stack)"
   ]
  },
  {
   "cell_type": "markdown",
   "id": "badeebf2-c239-4d8f-85c4-fb25f1043f4d",
   "metadata": {},
   "source": [
    "75. Extract all rows from a 2D array where the first element is greater than 50.\n",
    "----"
   ]
  },
  {
   "cell_type": "code",
   "execution_count": 224,
   "id": "7ffe32c0-9e0f-4d3a-b1cb-8d7fb48ba75f",
   "metadata": {},
   "outputs": [
    {
     "name": "stdout",
     "output_type": "stream",
     "text": [
      "Rows with first element > 50:\n",
      " [[60 70 80]\n",
      " [90 15 25]]\n"
     ]
    }
   ],
   "source": [
    "# Example 2D array\n",
    "arr = np.array([[10, 20, 30],\n",
    "                [60, 70, 80],\n",
    "                [45, 55, 65],\n",
    "                [90, 15, 25]])\n",
    "# Extract rows where the first element > 50\n",
    "filtered_rows = arr[arr[:, 0] > 50]\n",
    "print(\"Rows with first element > 50:\\n\", filtered_rows)"
   ]
  },
  {
   "cell_type": "markdown",
   "id": "2117a107-6477-4b1e-9f22-10c8441b7614",
   "metadata": {},
   "source": [
    "76. Create a 6x6 array and extract a 3x3 block from the center of it.\n",
    "----"
   ]
  },
  {
   "cell_type": "code",
   "execution_count": 225,
   "id": "ccc0c80e-f8a4-4bac-ab88-dfc06cc5809d",
   "metadata": {},
   "outputs": [
    {
     "name": "stdout",
     "output_type": "stream",
     "text": [
      "Original 6x6 array:\n",
      " [[ 1  2  3  4  5  6]\n",
      " [ 7  8  9 10 11 12]\n",
      " [13 14 15 16 17 18]\n",
      " [19 20 21 22 23 24]\n",
      " [25 26 27 28 29 30]\n",
      " [31 32 33 34 35 36]]\n",
      "\n",
      "Center 3x3 block:\n",
      " [[ 8  9 10]\n",
      " [14 15 16]\n",
      " [20 21 22]]\n"
     ]
    }
   ],
   "source": [
    "# Create a 6x6 array with numbers from 1 to 36\n",
    "arr = np.arange(1, 37).reshape(6, 6)\n",
    "print(\"Original 6x6 array:\\n\", arr)\n",
    "# Extract the center 3x3 block\n",
    "center_block = arr[1:4, 1:4]  # Rows 1-3, Columns 1-3\n",
    "print(\"\\nCenter 3x3 block:\\n\", center_block)"
   ]
  },
  {
   "cell_type": "markdown",
   "id": "17e4102f-de70-4892-b0cf-1f8fd29b800a",
   "metadata": {},
   "source": [
    "77. Normalize a 1D array (i.e., scale the values between 0 and 1).\n",
    "----"
   ]
  },
  {
   "cell_type": "code",
   "execution_count": 226,
   "id": "06bc4486-9433-44d5-9fe3-3868553ef384",
   "metadata": {},
   "outputs": [
    {
     "name": "stdout",
     "output_type": "stream",
     "text": [
      "Original array: [10 20 30 40 50]\n",
      "Normalized array: [0.   0.25 0.5  0.75 1.  ]\n"
     ]
    }
   ],
   "source": [
    "# Example 1D array\n",
    "arr = np.array([10, 20, 30, 40, 50])\n",
    "print(\"Original array:\", arr)\n",
    "# Normalize the array\n",
    "normalized_arr = (arr - arr.min()) / (arr.max() - arr.min())\n",
    "print(\"Normalized array:\", normalized_arr)"
   ]
  },
  {
   "cell_type": "markdown",
   "id": "20296e04-0352-4b05-908b-1966e7d85bc4",
   "metadata": {},
   "source": [
    "78. Given a 2D array, replace all elements greater than the average with the average itself.\n",
    "---"
   ]
  },
  {
   "cell_type": "code",
   "execution_count": 228,
   "id": "ff223e76-0727-41f5-a5d8-83bb6e02a6a1",
   "metadata": {},
   "outputs": [
    {
     "name": "stdout",
     "output_type": "stream",
     "text": [
      "Original array:\n",
      " [[10 20 30]\n",
      " [40 50 60]\n",
      " [70 80 90]]\n",
      "\n",
      "Average value: 50.0\n",
      "\n",
      "Array after replacing elements greater than average:\n",
      " [[10 20 30]\n",
      " [40 50 50]\n",
      " [50 50 50]]\n"
     ]
    }
   ],
   "source": [
    "# Example 2D array\n",
    "arr = np.array([[10, 20, 30],\n",
    "                [40, 50, 60],\n",
    "                [70, 80, 90]])\n",
    "print(\"Original array:\\n\", arr)\n",
    "# Compute the average of all elements\n",
    "avg = arr.mean()\n",
    "print(\"\\nAverage value:\", avg)\n",
    "# Replace elements greater than average with the average\n",
    "arr[arr > avg] = avg\n",
    "print(\"\\nArray after replacing elements greater than average:\\n\", arr)"
   ]
  },
  {
   "cell_type": "markdown",
   "id": "a3a505ad-b75a-42cf-834b-81bce07bc4a6",
   "metadata": {},
   "source": [
    "79. Find the indices of the top 3 maximum elements in a 1D array.\n",
    "----"
   ]
  },
  {
   "cell_type": "code",
   "execution_count": 229,
   "id": "8afb5c59-c492-4bef-98bb-a69cd988826a",
   "metadata": {},
   "outputs": [
    {
     "name": "stdout",
     "output_type": "stream",
     "text": [
      "Array: [10 50 30 70 20 90 40]\n",
      "Indices of top 3 maximum elements: [5 3 1]\n",
      "Top 3 maximum elements: [90 70 50]\n"
     ]
    }
   ],
   "source": [
    "# Example 1D array\n",
    "arr = np.array([10, 50, 30, 70, 20, 90, 40])\n",
    "print(\"Array:\", arr)\n",
    "# Get indices of the top 3 maximum elements\n",
    "top3_indices = np.argsort(arr)[-3:][::-1]  # Sort indices, take last 3, reverse\n",
    "print(\"Indices of top 3 maximum elements:\", top3_indices)\n",
    "# Optional: print the top 3 elements themselves\n",
    "print(\"Top 3 maximum elements:\", arr[top3_indices])"
   ]
  },
  {
   "cell_type": "markdown",
   "id": "ba8cf641-6191-40f8-b7ac-70b36c511864",
   "metadata": {},
   "source": [
    "80. Given a 3D array of shape (2, 3, 4), calculate the sum across axis 1 and axis 2.\n",
    "----"
   ]
  },
  {
   "cell_type": "code",
   "execution_count": 230,
   "id": "e3eca626-f6ae-4056-8d42-8978bef6983f",
   "metadata": {},
   "outputs": [
    {
     "name": "stdout",
     "output_type": "stream",
     "text": [
      "Original 3D array:\n",
      " [[[ 1  2  3  4]\n",
      "  [ 5  6  7  8]\n",
      "  [ 9 10 11 12]]\n",
      "\n",
      " [[13 14 15 16]\n",
      "  [17 18 19 20]\n",
      "  [21 22 23 24]]]\n",
      "\n",
      "Sum across axis 1:\n",
      " [[15 18 21 24]\n",
      " [51 54 57 60]]\n",
      "\n",
      "Sum across axis 2:\n",
      " [[10 26 42]\n",
      " [58 74 90]]\n"
     ]
    }
   ],
   "source": [
    "# Create a 3D array of shape (2, 3, 4) with numbers from 1 to 24\n",
    "arr = np.arange(1, 25).reshape(2, 3, 4)\n",
    "print(\"Original 3D array:\\n\", arr)\n",
    "# Sum across axis 1 (sum over the 3 rows in each 2D block)\n",
    "sum_axis1 = arr.sum(axis=1)\n",
    "print(\"\\nSum across axis 1:\\n\", sum_axis1)\n",
    "# Sum across axis 2 (sum over the 4 columns in each 2D block)\n",
    "sum_axis2 = arr.sum(axis=2)\n",
    "print(\"\\nSum across axis 2:\\n\", sum_axis2)"
   ]
  },
  {
   "cell_type": "markdown",
   "id": "3504efc6-6a5b-406b-b8b6-98a97dc7dbb5",
   "metadata": {},
   "source": [
    "81. Load a CSV file into a DataFrame and display the top 5 rows.\n",
    "----"
   ]
  },
  {
   "cell_type": "code",
   "execution_count": 235,
   "id": "13ae746b-a43d-4428-86d9-776aa732dd06",
   "metadata": {},
   "outputs": [
    {
     "name": "stdout",
     "output_type": "stream",
     "text": [
      "      Name  Age    Country\n",
      "0    Alice   25        USA\n",
      "1      Bob   30         UK\n",
      "2  Charlie   28     Canada\n",
      "3    David   35  Australia\n",
      "4      Eve   22      India\n"
     ]
    }
   ],
   "source": [
    "import pandas as pd\n",
    "# Sample DataFrame\n",
    "data = {\n",
    "    \"Name\": [\"Alice\", \"Bob\", \"Charlie\", \"David\", \"Eve\"],\n",
    "    \"Age\": [25, 30, 28, 35, 22],\n",
    "    \"Country\": [\"USA\", \"UK\", \"Canada\", \"Australia\", \"India\"]\n",
    "}\n",
    "df = pd.DataFrame(data)\n",
    "# Save as CSV\n",
    "df.to_csv(\"data.csv\", index=False)\n",
    "# Now read it\n",
    "df_loaded = pd.read_csv(\"data.csv\")\n",
    "print(df_loaded.head())"
   ]
  },
  {
   "cell_type": "markdown",
   "id": "8f337a29-5bcf-41dc-9437-e1d38fefbf29",
   "metadata": {},
   "source": [
    "82. Check for missing values in a DataFrame and count them column-wise.\n",
    "----"
   ]
  },
  {
   "cell_type": "code",
   "execution_count": 236,
   "id": "a6567e03-c395-4fe6-be2a-2f8d2505378d",
   "metadata": {},
   "outputs": [
    {
     "name": "stdout",
     "output_type": "stream",
     "text": [
      "DataFrame:\n",
      "       Name   Age    Country\n",
      "0    Alice  25.0        USA\n",
      "1      Bob   NaN         UK\n",
      "2  Charlie  28.0       None\n",
      "3     None  35.0  Australia\n",
      "4      Eve  22.0      India\n",
      "\n",
      "Missing values column-wise:\n",
      " Name       1\n",
      "Age        1\n",
      "Country    1\n",
      "dtype: int64\n"
     ]
    }
   ],
   "source": [
    "# Example DataFrame with some missing values\n",
    "data = {\n",
    "    \"Name\": [\"Alice\", \"Bob\", \"Charlie\", None, \"Eve\"],\n",
    "    \"Age\": [25, None, 28, 35, 22],\n",
    "    \"Country\": [\"USA\", \"UK\", None, \"Australia\", \"India\"]\n",
    "}\n",
    "df = pd.DataFrame(data)\n",
    "print(\"DataFrame:\\n\", df)\n",
    "\n",
    "# Check for missing values and count column-wise\n",
    "missing_counts = df.isnull().sum()\n",
    "print(\"\\nMissing values column-wise:\\n\", missing_counts)"
   ]
  },
  {
   "cell_type": "markdown",
   "id": "770229f1-0f25-4a23-837c-0c2f5b510071",
   "metadata": {},
   "source": [
    "83. Drop all rows from a DataFrame that contain any missing values.\n",
    "----"
   ]
  },
  {
   "cell_type": "code",
   "execution_count": 237,
   "id": "7325c045-0866-4caf-bb7d-622b1c28f00d",
   "metadata": {},
   "outputs": [
    {
     "name": "stdout",
     "output_type": "stream",
     "text": [
      "Original DataFrame:\n",
      "       Name   Age    Country\n",
      "0    Alice  25.0        USA\n",
      "1      Bob   NaN         UK\n",
      "2  Charlie  28.0       None\n",
      "3     None  35.0  Australia\n",
      "4      Eve  22.0      India\n",
      "\n",
      "DataFrame after dropping rows with missing values:\n",
      "     Name   Age Country\n",
      "0  Alice  25.0     USA\n",
      "4    Eve  22.0   India\n"
     ]
    }
   ],
   "source": [
    "# Example DataFrame with some missing values\n",
    "data = {\n",
    "    \"Name\": [\"Alice\", \"Bob\", \"Charlie\", None, \"Eve\"],\n",
    "    \"Age\": [25, None, 28, 35, 22],\n",
    "    \"Country\": [\"USA\", \"UK\", None, \"Australia\", \"India\"]\n",
    "}\n",
    "df = pd.DataFrame(data)\n",
    "print(\"Original DataFrame:\\n\", df)\n",
    "# Drop rows with any missing values\n",
    "df_clean = df.dropna()\n",
    "print(\"\\nDataFrame after dropping rows with missing values:\\n\", df_clean)"
   ]
  },
  {
   "cell_type": "markdown",
   "id": "8d0f2500-a6d4-4d6d-b041-41b412182f80",
   "metadata": {},
   "source": [
    "84. Fill missing values in a specific column with the column's mean.\n",
    "---"
   ]
  },
  {
   "cell_type": "code",
   "execution_count": 238,
   "id": "6513aa28-2b66-4c18-94e4-19018183938a",
   "metadata": {},
   "outputs": [
    {
     "name": "stdout",
     "output_type": "stream",
     "text": [
      "Original DataFrame:\n",
      "       Name   Age    Country\n",
      "0    Alice  25.0        USA\n",
      "1      Bob   NaN         UK\n",
      "2  Charlie  28.0     Canada\n",
      "3    David  35.0  Australia\n",
      "4      Eve  22.0      India\n",
      "\n",
      "DataFrame after filling missing 'Age' values with mean:\n",
      "       Name   Age    Country\n",
      "0    Alice  25.0        USA\n",
      "1      Bob  27.5         UK\n",
      "2  Charlie  28.0     Canada\n",
      "3    David  35.0  Australia\n",
      "4      Eve  22.0      India\n"
     ]
    },
    {
     "name": "stderr",
     "output_type": "stream",
     "text": [
      "C:\\Users\\Hanith\\AppData\\Local\\Temp\\ipykernel_21508\\968207685.py:10: FutureWarning: A value is trying to be set on a copy of a DataFrame or Series through chained assignment using an inplace method.\n",
      "The behavior will change in pandas 3.0. This inplace method will never work because the intermediate object on which we are setting values always behaves as a copy.\n",
      "\n",
      "For example, when doing 'df[col].method(value, inplace=True)', try using 'df.method({col: value}, inplace=True)' or df[col] = df[col].method(value) instead, to perform the operation inplace on the original object.\n",
      "\n",
      "\n",
      "  df['Age'].fillna(df['Age'].mean(), inplace=True)\n"
     ]
    }
   ],
   "source": [
    "# Example DataFrame with some missing values\n",
    "data = {\n",
    "    \"Name\": [\"Alice\", \"Bob\", \"Charlie\", \"David\", \"Eve\"],\n",
    "    \"Age\": [25, None, 28, 35, 22],\n",
    "    \"Country\": [\"USA\", \"UK\", \"Canada\", \"Australia\", \"India\"]\n",
    "}\n",
    "df = pd.DataFrame(data)\n",
    "print(\"Original DataFrame:\\n\", df)\n",
    "# Fill missing values in the 'Age' column with the column's mean\n",
    "df['Age'].fillna(df['Age'].mean(), inplace=True)\n",
    "print(\"\\nDataFrame after filling missing 'Age' values with mean:\\n\", df)"
   ]
  },
  {
   "cell_type": "markdown",
   "id": "98a80d51-4dd0-4d59-999e-26ec2d9ee0d8",
   "metadata": {},
   "source": [
    "85. Rename multiple columns in a DataFrame using a dictionary.\n",
    "---"
   ]
  },
  {
   "cell_type": "code",
   "execution_count": 239,
   "id": "b1039b81-ea43-46e2-8fb8-8f789b435f0b",
   "metadata": {},
   "outputs": [
    {
     "name": "stdout",
     "output_type": "stream",
     "text": [
      "Original DataFrame:\n",
      "       Name  Age Country\n",
      "0    Alice   25     USA\n",
      "1      Bob   30      UK\n",
      "2  Charlie   28  Canada\n",
      "\n",
      "DataFrame after renaming columns:\n",
      "   Full_Name  Years  Nation\n",
      "0     Alice     25     USA\n",
      "1       Bob     30      UK\n",
      "2   Charlie     28  Canada\n"
     ]
    }
   ],
   "source": [
    "# Example DataFrame\n",
    "data = {\n",
    "    \"Name\": [\"Alice\", \"Bob\", \"Charlie\"],\n",
    "    \"Age\": [25, 30, 28],\n",
    "    \"Country\": [\"USA\", \"UK\", \"Canada\"]\n",
    "}\n",
    "df = pd.DataFrame(data)\n",
    "print(\"Original DataFrame:\\n\", df)\n",
    "# Rename columns using a dictionary\n",
    "df.rename(columns={\"Name\": \"Full_Name\", \"Age\": \"Years\", \"Country\": \"Nation\"}, inplace=True)\n",
    "print(\"\\nDataFrame after renaming columns:\\n\", df)"
   ]
  },
  {
   "cell_type": "markdown",
   "id": "47229416-c932-452f-933c-82f05d768f8e",
   "metadata": {},
   "source": [
    "86. Select rows where a column's value is between two values (e.g., between 10 and 20).\n",
    "---"
   ]
  },
  {
   "cell_type": "code",
   "execution_count": 240,
   "id": "9aba1d7f-0ad9-43e0-a226-64d7ee685613",
   "metadata": {},
   "outputs": [
    {
     "name": "stdout",
     "output_type": "stream",
     "text": [
      "Original DataFrame:\n",
      "   Item  Price\n",
      "0    A      5\n",
      "1    B     12\n",
      "2    C     18\n",
      "3    D     25\n",
      "4    E     15\n",
      "\n",
      "Rows where Price is between 10 and 20:\n",
      "   Item  Price\n",
      "1    B     12\n",
      "2    C     18\n",
      "4    E     15\n"
     ]
    }
   ],
   "source": [
    "# Example DataFrame\n",
    "data = {\n",
    "    \"Item\": [\"A\", \"B\", \"C\", \"D\", \"E\"],\n",
    "    \"Price\": [5, 12, 18, 25, 15]\n",
    "}\n",
    "df = pd.DataFrame(data)\n",
    "print(\"Original DataFrame:\\n\", df)\n",
    "# Select rows where 'Price' is between 10 and 20 (inclusive)\n",
    "filtered_df = df[(df['Price'] >= 10) & (df['Price'] <= 20)]\n",
    "print(\"\\nRows where Price is between 10 and 20:\\n\", filtered_df)"
   ]
  },
  {
   "cell_type": "markdown",
   "id": "d2d857cf-7823-4f98-a067-27936774ffd7",
   "metadata": {},
   "source": [
    "87. Replace all values greater than a threshold (e.g., 100) with a fixed value (e.g., 100).\n",
    "---"
   ]
  },
  {
   "cell_type": "code",
   "execution_count": 245,
   "id": "bbc2132a-262b-4859-aed6-649cf49721e1",
   "metadata": {},
   "outputs": [
    {
     "name": "stdout",
     "output_type": "stream",
     "text": [
      "Original DataFrame:\n",
      "   Item  Sales  Profit\n",
      "0    A     80      50\n",
      "1    B    120     200\n",
      "2    C     95     110\n",
      "3    D    150      90\n",
      "\n",
      "DataFrame after replacing values greater than 100 with 100:\n",
      "   Item  Sales  Profit\n",
      "0    A     80      50\n",
      "1    B    100     100\n",
      "2    C     95     100\n",
      "3    D    100      90\n"
     ]
    }
   ],
   "source": [
    "# Example DataFrame\n",
    "data = {\n",
    "    \"Item\": [\"A\", \"B\", \"C\", \"D\"],\n",
    "    \"Sales\": [80, 120, 95, 150],\n",
    "    \"Profit\": [50, 200, 110, 90]\n",
    "}\n",
    "df = pd.DataFrame(data)\n",
    "print(\"Original DataFrame:\\n\", df)\n",
    "# Replace values greater than 100 **only in numeric columns**\n",
    "numeric_cols = df.select_dtypes(include='number').columns\n",
    "df[numeric_cols] = df[numeric_cols].clip(upper=100)\n",
    "print(\"\\nDataFrame after replacing values greater than 100 with 100:\\n\", df)"
   ]
  },
  {
   "cell_type": "markdown",
   "id": "e8a29254-286c-44c1-8f67-fa82937e3acd",
   "metadata": {},
   "source": [
    "88. Filter rows where two or more conditions are true (e.g., Gender == 'Male' and Age > 30).\n",
    "---"
   ]
  },
  {
   "cell_type": "code",
   "execution_count": 247,
   "id": "efcbbda0-4f7f-47d9-9157-3879afdff18e",
   "metadata": {},
   "outputs": [
    {
     "name": "stdout",
     "output_type": "stream",
     "text": [
      "Original DataFrame:\n",
      "       Name  Age  Gender\n",
      "0    Alice   25  Female\n",
      "1      Bob   35    Male\n",
      "2  Charlie   28    Male\n",
      "3    David   40    Male\n",
      "4      Eve   22  Female\n",
      "\n",
      "Rows where Gender is 'Male' and Age > 30:\n",
      "     Name  Age Gender\n",
      "1    Bob   35   Male\n",
      "3  David   40   Male\n"
     ]
    }
   ],
   "source": [
    "# Example DataFrame\n",
    "data = {\n",
    "    \"Name\": [\"Alice\", \"Bob\", \"Charlie\", \"David\", \"Eve\"],\n",
    "    \"Age\": [25, 35, 28, 40, 22],\n",
    "    \"Gender\": [\"Female\", \"Male\", \"Male\", \"Male\", \"Female\"]\n",
    "}\n",
    "df = pd.DataFrame(data)\n",
    "print(\"Original DataFrame:\\n\", df)\n",
    "# Filter rows where Gender is 'Male' AND Age > 30\n",
    "filtered_df = df[(df['Gender'] == 'Male') & (df['Age'] > 30)]\n",
    "print(\"\\nRows where Gender is 'Male' and Age > 30:\\n\", filtered_df)"
   ]
  },
  {
   "cell_type": "markdown",
   "id": "cd07180c-7256-41a1-9e5b-a43ec49ff78a",
   "metadata": {},
   "source": [
    "89. Create a new column that is the result of an arithmetic operation between two existing columns.\n",
    "---"
   ]
  },
  {
   "cell_type": "code",
   "execution_count": 249,
   "id": "fe3ecdba-636b-48f6-8b67-253c75c6b6a7",
   "metadata": {},
   "outputs": [
    {
     "name": "stdout",
     "output_type": "stream",
     "text": [
      "Original DataFrame:\n",
      "    Price  Quantity\n",
      "0    100         2\n",
      "1    150         3\n",
      "2    200         5\n",
      "3    120         4\n",
      "\n",
      "DataFrame after adding 'Total' column:\n",
      "    Price  Quantity  Total\n",
      "0    100         2    200\n",
      "1    150         3    450\n",
      "2    200         5   1000\n",
      "3    120         4    480\n"
     ]
    }
   ],
   "source": [
    "# Example DataFrame\n",
    "data = {\n",
    "    \"Price\": [100, 150, 200, 120],\n",
    "    \"Quantity\": [2, 3, 5, 4]\n",
    "}\n",
    "df = pd.DataFrame(data)\n",
    "print(\"Original DataFrame:\\n\", df)\n",
    "# Create a new column 'Total' as Price * Quantity\n",
    "df['Total'] = df['Price'] * df['Quantity']\n",
    "print(\"\\nDataFrame after adding 'Total' column:\\n\", df)"
   ]
  },
  {
   "cell_type": "markdown",
   "id": "7045ab10-06ea-4dcf-821e-2ed6b4b9c0f4",
   "metadata": {},
   "source": [
    "90. Group the data by one column and calculate the average of another column.\n",
    "---"
   ]
  },
  {
   "cell_type": "code",
   "execution_count": 250,
   "id": "3ad4320a-6843-48e4-9227-83dd9f6cd9ca",
   "metadata": {},
   "outputs": [
    {
     "name": "stdout",
     "output_type": "stream",
     "text": [
      "Original DataFrame:\n",
      "   Department  Salary\n",
      "0         HR   50000\n",
      "1         IT   60000\n",
      "2         HR   55000\n",
      "3         IT   65000\n",
      "4    Finance   70000\n",
      "\n",
      "Average Salary by Department:\n",
      " Department\n",
      "Finance    70000.0\n",
      "HR         52500.0\n",
      "IT         62500.0\n",
      "Name: Salary, dtype: float64\n"
     ]
    }
   ],
   "source": [
    "# Example DataFrame\n",
    "data = {\n",
    "    \"Department\": [\"HR\", \"IT\", \"HR\", \"IT\", \"Finance\"],\n",
    "    \"Salary\": [50000, 60000, 55000, 65000, 70000]\n",
    "}\n",
    "df = pd.DataFrame(data)\n",
    "print(\"Original DataFrame:\\n\", df)\n",
    "# Group by 'Department' and calculate average salary\n",
    "avg_salary = df.groupby('Department')['Salary'].mean()\n",
    "print(\"\\nAverage Salary by Department:\\n\", avg_salary)"
   ]
  },
  {
   "cell_type": "markdown",
   "id": "656c2ab8-19b5-4b88-b195-6ffd54d7923f",
   "metadata": {},
   "source": [
    "91. Group by two columns and calculate multiple aggregation metrics (mean, max).\n",
    "---"
   ]
  },
  {
   "cell_type": "code",
   "execution_count": 251,
   "id": "86af5b01-edd0-4308-a09f-053b9fca0523",
   "metadata": {},
   "outputs": [
    {
     "name": "stdout",
     "output_type": "stream",
     "text": [
      "Original DataFrame:\n",
      "   Department  Gender  Salary\n",
      "0         HR    Male   50000\n",
      "1         IT    Male   60000\n",
      "2         HR  Female   55000\n",
      "3         IT  Female   65000\n",
      "4    Finance    Male   70000\n",
      "5         HR  Female   52000\n",
      "6         IT    Male   62000\n",
      "\n",
      "Grouped Data with mean and max:\n",
      "                       mean    max\n",
      "Department Gender                \n",
      "Finance    Male    70000.0  70000\n",
      "HR         Female  53500.0  55000\n",
      "           Male    50000.0  50000\n",
      "IT         Female  65000.0  65000\n",
      "           Male    61000.0  62000\n"
     ]
    }
   ],
   "source": [
    "# Example DataFrame\n",
    "data = {\n",
    "    \"Department\": [\"HR\", \"IT\", \"HR\", \"IT\", \"Finance\", \"HR\", \"IT\"],\n",
    "    \"Gender\": [\"Male\", \"Male\", \"Female\", \"Female\", \"Male\", \"Female\", \"Male\"],\n",
    "    \"Salary\": [50000, 60000, 55000, 65000, 70000, 52000, 62000]\n",
    "}\n",
    "df = pd.DataFrame(data)\n",
    "print(\"Original DataFrame:\\n\", df)\n",
    "# Group by 'Department' and 'Gender' and calculate mean and max of 'Salary'\n",
    "grouped = df.groupby(['Department', 'Gender'])['Salary'].agg(['mean', 'max'])\n",
    "print(\"\\nGrouped Data with mean and max:\\n\", grouped)"
   ]
  },
  {
   "cell_type": "markdown",
   "id": "ea3f0183-d764-4451-be42-127bee92fb6b",
   "metadata": {},
   "source": [
    "92. Sort a DataFrame by two columns: one ascending, one descending.\n",
    "---"
   ]
  },
  {
   "cell_type": "code",
   "execution_count": 252,
   "id": "e1f2a0ef-bd67-4687-be6f-d044384555ac",
   "metadata": {},
   "outputs": [
    {
     "name": "stdout",
     "output_type": "stream",
     "text": [
      "Original DataFrame:\n",
      "       Name  Age  Salary\n",
      "0    Alice   25   50000\n",
      "1      Bob   35   60000\n",
      "2  Charlie   28   55000\n",
      "3    David   40   65000\n",
      "4      Eve   22   48000\n",
      "\n",
      "DataFrame after sorting:\n",
      "       Name  Age  Salary\n",
      "4      Eve   22   48000\n",
      "0    Alice   25   50000\n",
      "2  Charlie   28   55000\n",
      "1      Bob   35   60000\n",
      "3    David   40   65000\n"
     ]
    }
   ],
   "source": [
    "# Example DataFrame\n",
    "data = {\n",
    "    \"Name\": [\"Alice\", \"Bob\", \"Charlie\", \"David\", \"Eve\"],\n",
    "    \"Age\": [25, 35, 28, 40, 22],\n",
    "    \"Salary\": [50000, 60000, 55000, 65000, 48000]\n",
    "}\n",
    "df = pd.DataFrame(data)\n",
    "print(\"Original DataFrame:\\n\", df)\n",
    "# Sort by 'Age' ascending and 'Salary' descending\n",
    "sorted_df = df.sort_values(by=['Age', 'Salary'], ascending=[True, False])\n",
    "print(\"\\nDataFrame after sorting:\\n\", sorted_df)"
   ]
  },
  {
   "cell_type": "markdown",
   "id": "7a906a3c-5a76-49b5-a9d2-23811ffc6d81",
   "metadata": {},
   "source": [
    "93. Reset the index of a DataFrame after dropping rows.\n",
    "---"
   ]
  },
  {
   "cell_type": "code",
   "execution_count": 253,
   "id": "34a27792-9fab-485c-a4fd-4c4b2d819c34",
   "metadata": {},
   "outputs": [
    {
     "name": "stdout",
     "output_type": "stream",
     "text": [
      "Original DataFrame:\n",
      "       Name  Age\n",
      "0    Alice   25\n",
      "1      Bob   35\n",
      "2  Charlie   28\n",
      "3    David   40\n",
      "\n",
      "DataFrame after dropping rows:\n",
      "       Name  Age\n",
      "0    Alice   25\n",
      "2  Charlie   28\n",
      "\n",
      "DataFrame after resetting index:\n",
      "       Name  Age\n",
      "0    Alice   25\n",
      "1  Charlie   28\n"
     ]
    }
   ],
   "source": [
    "# Example DataFrame\n",
    "data = {\n",
    "    \"Name\": [\"Alice\", \"Bob\", \"Charlie\", \"David\"],\n",
    "    \"Age\": [25, 35, 28, 40]\n",
    "}\n",
    "df = pd.DataFrame(data)\n",
    "print(\"Original DataFrame:\\n\", df)\n",
    "# Drop rows where Age > 30\n",
    "df_filtered = df[df['Age'] <= 30]\n",
    "print(\"\\nDataFrame after dropping rows:\\n\", df_filtered)\n",
    "# Reset the index\n",
    "df_reset = df_filtered.reset_index(drop=True)\n",
    "print(\"\\nDataFrame after resetting index:\\n\", df_reset)"
   ]
  },
  {
   "cell_type": "markdown",
   "id": "5b295262-51ff-4053-9f4a-560e7a2281ba",
   "metadata": {},
   "source": [
    "94. Create a pivot table showing the average salary by department and gender.\n",
    "---"
   ]
  },
  {
   "cell_type": "code",
   "execution_count": 254,
   "id": "95fc7f80-9814-42d7-b31d-22e5e25e4a62",
   "metadata": {},
   "outputs": [
    {
     "name": "stdout",
     "output_type": "stream",
     "text": [
      "Original DataFrame:\n",
      "   Department  Gender  Salary\n",
      "0         HR    Male   50000\n",
      "1         IT    Male   60000\n",
      "2         HR  Female   55000\n",
      "3         IT  Female   65000\n",
      "4    Finance    Male   70000\n",
      "5         HR  Female   52000\n",
      "6         IT    Male   62000\n",
      "\n",
      "Pivot table (Average Salary by Department and Gender):\n",
      " Gender       Female     Male\n",
      "Department                  \n",
      "Finance         NaN  70000.0\n",
      "HR          53500.0  50000.0\n",
      "IT          65000.0  61000.0\n"
     ]
    }
   ],
   "source": [
    "# Example DataFrame\n",
    "data = {\n",
    "    \"Department\": [\"HR\", \"IT\", \"HR\", \"IT\", \"Finance\", \"HR\", \"IT\"],\n",
    "    \"Gender\": [\"Male\", \"Male\", \"Female\", \"Female\", \"Male\", \"Female\", \"Male\"],\n",
    "    \"Salary\": [50000, 60000, 55000, 65000, 70000, 52000, 62000]\n",
    "}\n",
    "df = pd.DataFrame(data)\n",
    "print(\"Original DataFrame:\\n\", df)\n",
    "\n",
    "# Create pivot table\n",
    "pivot = pd.pivot_table(df, values='Salary', index='Department', columns='Gender', aggfunc='mean')\n",
    "print(\"\\nPivot table (Average Salary by Department and Gender):\\n\", pivot)"
   ]
  },
  {
   "cell_type": "markdown",
   "id": "f9ffc3cd-04d9-4303-8127-eaeff4fd17ba",
   "metadata": {},
   "source": [
    "95. Merge two DataFrames using a common key column.\n",
    "---"
   ]
  },
  {
   "cell_type": "code",
   "execution_count": 256,
   "id": "c860dfb1-aefe-42d5-869a-aacc7e56a39d",
   "metadata": {},
   "outputs": [
    {
     "name": "stdout",
     "output_type": "stream",
     "text": [
      "DataFrame 1:\n",
      "    EmployeeID     Name\n",
      "0         101    Alice\n",
      "1         102      Bob\n",
      "2         103  Charlie\n",
      "3         104    David\n",
      "\n",
      "DataFrame 2:\n",
      "    EmployeeID  Salary\n",
      "0         101   50000\n",
      "1         102   60000\n",
      "2         104   65000\n",
      "3         105   70000\n",
      "\n",
      "Merged DataFrame:\n",
      "    EmployeeID   Name  Salary\n",
      "0         101  Alice   50000\n",
      "1         102    Bob   60000\n",
      "2         104  David   65000\n"
     ]
    }
   ],
   "source": [
    "# Example DataFrame 1\n",
    "df1 = pd.DataFrame({\n",
    "    \"EmployeeID\": [101, 102, 103, 104],\n",
    "    \"Name\": [\"Alice\", \"Bob\", \"Charlie\", \"David\"]\n",
    "})\n",
    "# Example DataFrame 2\n",
    "df2 = pd.DataFrame({\n",
    "    \"EmployeeID\": [101, 102, 104, 105],\n",
    "    \"Salary\": [50000, 60000, 65000, 70000]\n",
    "})\n",
    "print(\"DataFrame 1:\\n\", df1)\n",
    "print(\"\\nDataFrame 2:\\n\", df2)\n",
    "# Merge DataFrames on 'EmployeeID'\n",
    "merged_df = pd.merge(df1, df2, on='EmployeeID', how='inner')  # 'inner' keeps only matching keys\n",
    "print(\"\\nMerged DataFrame:\\n\", merged_df)"
   ]
  },
  {
   "cell_type": "markdown",
   "id": "5872a3e1-2a41-4d99-8f39-8bcec0d85474",
   "metadata": {},
   "source": [
    "96. Concatenate two DataFrames vertically and reset the index.\n",
    "---"
   ]
  },
  {
   "cell_type": "code",
   "execution_count": 258,
   "id": "7bc4af4f-70d1-490a-aa2d-b04fbae2d1fb",
   "metadata": {},
   "outputs": [
    {
     "name": "stdout",
     "output_type": "stream",
     "text": [
      "DataFrame 1:\n",
      "     Name  Age\n",
      "0  Alice   25\n",
      "1    Bob   30\n",
      "\n",
      "DataFrame 2:\n",
      "       Name  Age\n",
      "0  Charlie   28\n",
      "1    David   35\n",
      "\n",
      "Concatenated DataFrame:\n",
      "       Name  Age\n",
      "0    Alice   25\n",
      "1      Bob   30\n",
      "2  Charlie   28\n",
      "3    David   35\n"
     ]
    }
   ],
   "source": [
    "# Example DataFrame 1\n",
    "df1 = pd.DataFrame({\n",
    "    \"Name\": [\"Alice\", \"Bob\"],\n",
    "    \"Age\": [25, 30]\n",
    "})\n",
    "# Example DataFrame 2\n",
    "df2 = pd.DataFrame({\n",
    "    \"Name\": [\"Charlie\", \"David\"],\n",
    "    \"Age\": [28, 35]\n",
    "})\n",
    "print(\"DataFrame 1:\\n\", df1)\n",
    "print(\"\\nDataFrame 2:\\n\", df2)\n",
    "# Concatenate vertically\n",
    "df_concat = pd.concat([df1, df2], ignore_index=True)  # ignore_index=True resets the index\n",
    "print(\"\\nConcatenated DataFrame:\\n\", df_concat)"
   ]
  },
  {
   "cell_type": "markdown",
   "id": "dedebe59-8561-466b-a5cb-470291d82c55",
   "metadata": {},
   "source": [
    "97. Extract the year from a column containing dates.\n",
    "---"
   ]
  },
  {
   "cell_type": "code",
   "execution_count": 259,
   "id": "dd896551-c4f0-4c5f-90a9-6ce6f2df0fb3",
   "metadata": {},
   "outputs": [
    {
     "name": "stdout",
     "output_type": "stream",
     "text": [
      "Original DataFrame:\n",
      "       Name JoiningDate\n",
      "0    Alice  2021-05-15\n",
      "1      Bob  2020-08-22\n",
      "2  Charlie  2019-12-10\n",
      "\n",
      "DataFrame with Year column:\n",
      "       Name JoiningDate  Year\n",
      "0    Alice  2021-05-15  2021\n",
      "1      Bob  2020-08-22  2020\n",
      "2  Charlie  2019-12-10  2019\n"
     ]
    }
   ],
   "source": [
    "# Example DataFrame\n",
    "data = {\n",
    "    \"Name\": [\"Alice\", \"Bob\", \"Charlie\"],\n",
    "    \"JoiningDate\": [\"2021-05-15\", \"2020-08-22\", \"2019-12-10\"]\n",
    "}\n",
    "df = pd.DataFrame(data)\n",
    "print(\"Original DataFrame:\\n\", df)\n",
    "# Convert 'JoiningDate' to datetime format\n",
    "df['JoiningDate'] = pd.to_datetime(df['JoiningDate'])\n",
    "# Extract year\n",
    "df['Year'] = df['JoiningDate'].dt.year\n",
    "print(\"\\nDataFrame with Year column:\\n\", df)"
   ]
  },
  {
   "cell_type": "markdown",
   "id": "7498844d-0a59-43e1-baae-58fa46706f52",
   "metadata": {},
   "source": [
    "98. Count the number of unique values in a column.\n",
    "---"
   ]
  },
  {
   "cell_type": "code",
   "execution_count": 260,
   "id": "6a3fdd7b-c9c8-4171-a7ad-02bd9997ed22",
   "metadata": {},
   "outputs": [
    {
     "name": "stdout",
     "output_type": "stream",
     "text": [
      "Original DataFrame:\n",
      "   Department\n",
      "0         HR\n",
      "1         IT\n",
      "2         HR\n",
      "3    Finance\n",
      "4         IT\n",
      "5    Finance\n",
      "6         HR\n",
      "\n",
      "Number of unique departments: 3\n"
     ]
    }
   ],
   "source": [
    "# Example DataFrame\n",
    "data = {\n",
    "    \"Department\": [\"HR\", \"IT\", \"HR\", \"Finance\", \"IT\", \"Finance\", \"HR\"]\n",
    "}\n",
    "df = pd.DataFrame(data)\n",
    "print(\"Original DataFrame:\\n\", df)\n",
    "\n",
    "# Count number of unique values in 'Department'\n",
    "num_unique = df['Department'].nunique()\n",
    "print(\"\\nNumber of unique departments:\", num_unique)"
   ]
  },
  {
   "cell_type": "markdown",
   "id": "e8e78f85-534c-4e18-96d4-9c8547618af9",
   "metadata": {},
   "source": [
    "99. Convert a categorical column (e.g., \"Gender\") into one-hot encoded format.\n",
    "---"
   ]
  },
  {
   "cell_type": "code",
   "execution_count": 261,
   "id": "b1691a71-648c-47c8-a003-8abefc7f3728",
   "metadata": {},
   "outputs": [
    {
     "name": "stdout",
     "output_type": "stream",
     "text": [
      "Original DataFrame:\n",
      "       Name  Gender\n",
      "0    Alice  Female\n",
      "1      Bob    Male\n",
      "2  Charlie    Male\n",
      "3    David  Female\n",
      "\n",
      "DataFrame after one-hot encoding:\n",
      "       Name  Gender_Female  Gender_Male\n",
      "0    Alice           True        False\n",
      "1      Bob          False         True\n",
      "2  Charlie          False         True\n",
      "3    David           True        False\n"
     ]
    }
   ],
   "source": [
    "# Example DataFrame\n",
    "data = {\n",
    "    \"Name\": [\"Alice\", \"Bob\", \"Charlie\", \"David\"],\n",
    "    \"Gender\": [\"Female\", \"Male\", \"Male\", \"Female\"]\n",
    "}\n",
    "df = pd.DataFrame(data)\n",
    "print(\"Original DataFrame:\\n\", df)\n",
    "# One-hot encode the 'Gender' column\n",
    "df_encoded = pd.get_dummies(df, columns=['Gender'])\n",
    "print(\"\\nDataFrame after one-hot encoding:\\n\", df_encoded)"
   ]
  },
  {
   "cell_type": "markdown",
   "id": "f6fc8f87-5567-4c04-9370-3bc891731d6e",
   "metadata": {},
   "source": [
    "100. Apply a custom function to a column using .apply() to categorize values (e.g., Grade from Marks).\n",
    "---"
   ]
  },
  {
   "cell_type": "code",
   "execution_count": 262,
   "id": "65abb0f5-aaab-4e8c-b678-5f129657f930",
   "metadata": {},
   "outputs": [
    {
     "name": "stdout",
     "output_type": "stream",
     "text": [
      "Original DataFrame:\n",
      "       Name  Marks\n",
      "0    Alice     85\n",
      "1      Bob     72\n",
      "2  Charlie     60\n",
      "3    David     48\n",
      "\n",
      "DataFrame with Grades:\n",
      "       Name  Marks Grade\n",
      "0    Alice     85     A\n",
      "1      Bob     72     B\n",
      "2  Charlie     60     C\n",
      "3    David     48     F\n"
     ]
    }
   ],
   "source": [
    "# Example DataFrame\n",
    "data = {\n",
    "    \"Name\": [\"Alice\", \"Bob\", \"Charlie\", \"David\"],\n",
    "    \"Marks\": [85, 72, 60, 48]\n",
    "}\n",
    "df = pd.DataFrame(data)\n",
    "print(\"Original DataFrame:\\n\", df)\n",
    "\n",
    "# Define a custom function to assign grades\n",
    "def assign_grade(marks):\n",
    "    if marks >= 80:\n",
    "        return 'A'\n",
    "    elif marks >= 70:\n",
    "        return 'B'\n",
    "    elif marks >= 50:\n",
    "        return 'C'\n",
    "    else:\n",
    "        return 'F'\n",
    "# Apply the function to 'Marks' column\n",
    "df['Grade'] = df['Marks'].apply(assign_grade)\n",
    "print(\"\\nDataFrame with Grades:\\n\", df)"
   ]
  },
  {
   "cell_type": "code",
   "execution_count": null,
   "id": "dbd289a0-b15a-401c-b660-5116aa231bd7",
   "metadata": {},
   "outputs": [],
   "source": []
  }
 ],
 "metadata": {
  "kernelspec": {
   "display_name": "Python [conda env:base] *",
   "language": "python",
   "name": "conda-base-py"
  },
  "language_info": {
   "codemirror_mode": {
    "name": "ipython",
    "version": 3
   },
   "file_extension": ".py",
   "mimetype": "text/x-python",
   "name": "python",
   "nbconvert_exporter": "python",
   "pygments_lexer": "ipython3",
   "version": "3.13.5"
  }
 },
 "nbformat": 4,
 "nbformat_minor": 5
}
